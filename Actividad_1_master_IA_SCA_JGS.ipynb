{
  "nbformat": 4,
  "nbformat_minor": 0,
  "metadata": {
    "kernelspec": {
      "display_name": "Python 3",
      "language": "python",
      "name": "python3"
    },
    "language_info": {
      "codemirror_mode": {
        "name": "ipython",
        "version": 3
      },
      "file_extension": ".py",
      "mimetype": "text/x-python",
      "name": "python",
      "nbconvert_exporter": "python",
      "pygments_lexer": "ipython3",
      "version": "3.8.5"
    },
    "colab": {
      "provenance": [],
      "include_colab_link": true
    }
  },
  "cells": [
    {
      "cell_type": "markdown",
      "metadata": {
        "id": "view-in-github",
        "colab_type": "text"
      },
      "source": [
        "<a href=\"https://colab.research.google.com/github/jgtres/UNIR_SCAQ2/blob/main/Actividad_1_master_IA_SCA_JGS.ipynb\" target=\"_parent\"><img src=\"https://colab.research.google.com/assets/colab-badge.svg\" alt=\"Open In Colab\"/></a>"
      ]
    },
    {
      "cell_type": "markdown",
      "metadata": {
        "id": "4VFT5_VnJl19"
      },
      "source": [
        "# Actividad 1: Conceptos generales de redes neuronales\n",
        "En esta actividad vamos a revisar algunos de los conceptos basicos de las redes neuronales, pero no por ello menos importantes.\n",
        "\n",
        "El dataset a utilizar es Fashion MNIST, un problema sencillo con imágenes pequeñas de ropa, pero más interesante que el dataset de MNIST. Puedes consultar más información sobre el dataset en este enlace.\n",
        "\n",
        "El código utilizado para contestar tiene que quedar claramente reflejado en el Notebook. Puedes crear nuevas cells si así lo deseas para estructurar tu código y sus salidas. A la hora de entregar el notebook, asegúrate de que los resultados de ejecutar tu código han quedado guardados (por ejemplo, a la hora de entrenar una red neuronal tiene que verse claramente un log de los resultados de cada epoch)."
      ]
    },
    {
      "cell_type": "code",
      "metadata": {
        "id": "VU8gdrsVG4h0",
        "colab": {
          "base_uri": "https://localhost:8080/"
        },
        "outputId": "51489b53-5f09-4c89-cd7b-9cd73b62ce93"
      },
      "source": [
        "import tensorflow as tf\n",
        "print(tf.__version__)"
      ],
      "execution_count": 6,
      "outputs": [
        {
          "output_type": "stream",
          "name": "stdout",
          "text": [
            "2.17.1\n"
          ]
        }
      ]
    },
    {
      "cell_type": "markdown",
      "metadata": {
        "id": "zScMKU2OKSPD"
      },
      "source": [
        "En primer lugar vamos a importar el dataset Fashion MNIST (recordad que este es uno de los dataset de entranamiento que estan guardados en keras) que es el que vamos a utilizar en esta actividad:"
      ]
    },
    {
      "cell_type": "code",
      "metadata": {
        "id": "4voG2hxxG4h3"
      },
      "source": [
        "mnist = tf.keras.datasets.fashion_mnist"
      ],
      "execution_count": 7,
      "outputs": []
    },
    {
      "cell_type": "markdown",
      "metadata": {
        "id": "JphLsCvgKrzb"
      },
      "source": [
        "Llamar a **load_data** en este dataset nos dará dos conjuntos de dos listas, estos serán los valores de entrenamiento y prueba para los gráficos que contienen las prendas de vestir y sus etiquetas.\n",
        "\n",
        "Nota: Aunque en esta actividad lo veis de esta forma, también lo vais a poder encontrar como 4 variables de esta forma: training_images, training_labels, test_images, test_labels = mnist.load_data()"
      ]
    },
    {
      "cell_type": "code",
      "metadata": {
        "id": "1muD4PHEG4h6"
      },
      "source": [
        "(training_images, training_labels), (test_images, test_labels) = mnist.load_data()"
      ],
      "execution_count": 9,
      "outputs": []
    },
    {
      "cell_type": "markdown",
      "metadata": {
        "id": "ZWGpJqVVLT3Y"
      },
      "source": [
        "Antes de continuar vamos a dar un vistazo a nuestro dataset, para ello vamos a ver una imagen de entrenamiento y su etiqueta o clase."
      ]
    },
    {
      "cell_type": "code",
      "metadata": {
        "id": "t5a5PlswG4h8",
        "colab": {
          "base_uri": "https://localhost:8080/",
          "height": 933
        },
        "outputId": "7a80da63-6245-46be-b293-ba81ee1bbc09"
      },
      "source": [
        "import numpy as np\n",
        "np.set_printoptions(linewidth=200)\n",
        "import matplotlib.pyplot as plt\n",
        "plt.imshow(training_images[0], cmap=\"gray\") # recordad que siempre es preferible trabajar en blanco y negro\n",
        "#\n",
        "print(training_labels[0])\n",
        "print(training_images[0])"
      ],
      "execution_count": 10,
      "outputs": [
        {
          "output_type": "stream",
          "name": "stdout",
          "text": [
            "9\n",
            "[[  0   0   0   0   0   0   0   0   0   0   0   0   0   0   0   0   0   0   0   0   0   0   0   0   0   0   0   0]\n",
            " [  0   0   0   0   0   0   0   0   0   0   0   0   0   0   0   0   0   0   0   0   0   0   0   0   0   0   0   0]\n",
            " [  0   0   0   0   0   0   0   0   0   0   0   0   0   0   0   0   0   0   0   0   0   0   0   0   0   0   0   0]\n",
            " [  0   0   0   0   0   0   0   0   0   0   0   0   1   0   0  13  73   0   0   1   4   0   0   0   0   1   1   0]\n",
            " [  0   0   0   0   0   0   0   0   0   0   0   0   3   0  36 136 127  62  54   0   0   0   1   3   4   0   0   3]\n",
            " [  0   0   0   0   0   0   0   0   0   0   0   0   6   0 102 204 176 134 144 123  23   0   0   0   0  12  10   0]\n",
            " [  0   0   0   0   0   0   0   0   0   0   0   0   0   0 155 236 207 178 107 156 161 109  64  23  77 130  72  15]\n",
            " [  0   0   0   0   0   0   0   0   0   0   0   1   0  69 207 223 218 216 216 163 127 121 122 146 141  88 172  66]\n",
            " [  0   0   0   0   0   0   0   0   0   1   1   1   0 200 232 232 233 229 223 223 215 213 164 127 123 196 229   0]\n",
            " [  0   0   0   0   0   0   0   0   0   0   0   0   0 183 225 216 223 228 235 227 224 222 224 221 223 245 173   0]\n",
            " [  0   0   0   0   0   0   0   0   0   0   0   0   0 193 228 218 213 198 180 212 210 211 213 223 220 243 202   0]\n",
            " [  0   0   0   0   0   0   0   0   0   1   3   0  12 219 220 212 218 192 169 227 208 218 224 212 226 197 209  52]\n",
            " [  0   0   0   0   0   0   0   0   0   0   6   0  99 244 222 220 218 203 198 221 215 213 222 220 245 119 167  56]\n",
            " [  0   0   0   0   0   0   0   0   0   4   0   0  55 236 228 230 228 240 232 213 218 223 234 217 217 209  92   0]\n",
            " [  0   0   1   4   6   7   2   0   0   0   0   0 237 226 217 223 222 219 222 221 216 223 229 215 218 255  77   0]\n",
            " [  0   3   0   0   0   0   0   0   0  62 145 204 228 207 213 221 218 208 211 218 224 223 219 215 224 244 159   0]\n",
            " [  0   0   0   0  18  44  82 107 189 228 220 222 217 226 200 205 211 230 224 234 176 188 250 248 233 238 215   0]\n",
            " [  0  57 187 208 224 221 224 208 204 214 208 209 200 159 245 193 206 223 255 255 221 234 221 211 220 232 246   0]\n",
            " [  3 202 228 224 221 211 211 214 205 205 205 220 240  80 150 255 229 221 188 154 191 210 204 209 222 228 225   0]\n",
            " [ 98 233 198 210 222 229 229 234 249 220 194 215 217 241  65  73 106 117 168 219 221 215 217 223 223 224 229  29]\n",
            " [ 75 204 212 204 193 205 211 225 216 185 197 206 198 213 240 195 227 245 239 223 218 212 209 222 220 221 230  67]\n",
            " [ 48 203 183 194 213 197 185 190 194 192 202 214 219 221 220 236 225 216 199 206 186 181 177 172 181 205 206 115]\n",
            " [  0 122 219 193 179 171 183 196 204 210 213 207 211 210 200 196 194 191 195 191 198 192 176 156 167 177 210  92]\n",
            " [  0   0  74 189 212 191 175 172 175 181 185 188 189 188 193 198 204 209 210 210 211 188 188 194 192 216 170   0]\n",
            " [  2   0   0   0  66 200 222 237 239 242 246 243 244 221 220 193 191 179 182 182 181 176 166 168  99  58   0   0]\n",
            " [  0   0   0   0   0   0   0  40  61  44  72  41  35   0   0   0   0   0   0   0   0   0   0   0   0   0   0   0]\n",
            " [  0   0   0   0   0   0   0   0   0   0   0   0   0   0   0   0   0   0   0   0   0   0   0   0   0   0   0   0]\n",
            " [  0   0   0   0   0   0   0   0   0   0   0   0   0   0   0   0   0   0   0   0   0   0   0   0   0   0   0   0]]\n"
          ]
        },
        {
          "output_type": "display_data",
          "data": {
            "text/plain": [
              "<Figure size 640x480 with 1 Axes>"
            ],
            "image/png": "[encoded data removed]"
          },
          "metadata": {}
        }
      ]
    },
    {
      "cell_type": "markdown",
      "metadata": {
        "id": "WCJvZx3MLucY"
      },
      "source": [
        "Habreis notado que todos los valores numericos están entre 0 y 255. Si estamos entrenando una red neuronal, una buena practica es transformar todos los valores entre 0 y 1, un proceso llamado \"normalización\" y afortunadamente en Python es fácil normalizar una lista. Lo puedes hacer de esta manera:"
      ]
    },
    {
      "cell_type": "code",
      "source": [
        "training_images = training_images / 255.0\n",
        "test_images = test_images / 255.0"
      ],
      "metadata": {
        "id": "pK6olfUU8YvT"
      },
      "execution_count": 11,
      "outputs": []
    },
    {
      "cell_type": "markdown",
      "metadata": {
        "id": "yYUWWsszMAKt"
      },
      "source": [
        "Ahora vamos a definir el modelo, pero antes vamos a repasar algunos comandos y conceptos muy utiles:\n",
        "* **Sequential**: Eso define una SECUENCIA de capas en la red neuronal\n",
        "* **Dense**: Añade una capa de neuronas\n",
        "* **Flatten**: ¿Recuerdas cómo eran las imagenes cuando las imprimiste para poder verlas? Un cuadrado, Flatten sólo toma ese cuadrado y lo convierte en un vector de una dimensión.\n",
        "\n",
        "Cada capa de neuronas necesita una función de activación. Normalmente se usa la función relu en las capas intermedias y softmax en la ultima capa\n",
        "* **Relu** significa que \"Si X>0 devuelve X, si no, devuelve 0\", así que lo que hace es pasar sólo valores 0 o mayores a la siguiente capa de la red.\n",
        "* **Softmax** toma un conjunto de valores, y escoge el más grande."
      ]
    },
    {
      "cell_type": "markdown",
      "metadata": {
        "id": "QgBW1yE2MwPp"
      },
      "source": [
        " **Pregunta 1 (3.5 puntos)**. Utilizando Keras, y preparando los datos de X e y como fuera necesario, define y entrena una red neuronal que sea capaz de clasificar imágenes de Fashion MNIST con las siguientes características:\n",
        "\n",
        "* Una hidden layer de tamaños 128, utilizando unidades sigmoid\n",
        "Optimizador Adam.\n",
        "* Durante el entrenamiento, la red tiene que mostrar resultados de loss y accuracy por cada epoch.\n",
        "* La red debe entrenar durante 10 epochs y batch size de 64.\n",
        "* La última capa debe de ser una capa softmax.\n",
        "* Tu red tendría que ser capaz de superar fácilmente 80% de accuracy."
      ]
    },
    {
      "cell_type": "code",
      "metadata": {
        "id": "aTaD2QXIORwu",
        "colab": {
          "base_uri": "https://localhost:8080/"
        },
        "outputId": "234e2b02-f746-4289-c170-18e8586fe71f"
      },
      "source": [
        "### Tu código para la red neuronal de la pregunta 1 aquí ###\n",
        "\n",
        "## Definición del Modelo\n",
        "\n",
        "model_128 = tf.keras.models.Sequential([\n",
        "  tf.keras.layers.Flatten(input_shape=(28, 28)), # Aplana las imágenes de 28x28 a un vector de 784\n",
        "  tf.keras.layers.Dense(128, activation='sigmoid'), # Capa oculta con 128 neuronas y activación sigmoid\n",
        "  tf.keras.layers.Dense(10, activation='softmax') # Capa de salida con 10 neuronas (una por clase) y activación softmax\n",
        "])\n",
        "\n",
        "## Compilación del Modelo\n",
        "\n",
        "model_128.compile(optimizer='adam',\n",
        "              loss='sparse_categorical_crossentropy',\n",
        "              metrics=['accuracy'])\n",
        "\n",
        "## Entrenamiento del Modelo\n",
        "\n",
        "model_128.fit(training_images, training_labels, epochs=10, batch_size=64)\n",
        "\n"
      ],
      "execution_count": 12,
      "outputs": [
        {
          "output_type": "stream",
          "name": "stderr",
          "text": [
            "/usr/local/lib/python3.10/dist-packages/keras/src/layers/reshaping/flatten.py:37: UserWarning: Do not pass an `input_shape`/`input_dim` argument to a layer. When using Sequential models, prefer using an `Input(shape)` object as the first layer in the model instead.\n",
            "  super().__init__(**kwargs)\n"
          ]
        },
        {
          "output_type": "stream",
          "name": "stdout",
          "text": [
            "Epoch 1/10\n",
            "\u001b[1m938/938\u001b[0m \u001b[32m━━━━━━━━━━━━━━━━━━━━\u001b[0m\u001b[37m\u001b[0m \u001b[1m4s\u001b[0m 3ms/step - accuracy: 0.7408 - loss: 0.8176\n",
            "Epoch 2/10\n",
            "\u001b[1m938/938\u001b[0m \u001b[32m━━━━━━━━━━━━━━━━━━━━\u001b[0m\u001b[37m\u001b[0m \u001b[1m5s\u001b[0m 3ms/step - accuracy: 0.8504 - loss: 0.4229\n",
            "Epoch 3/10\n",
            "\u001b[1m938/938\u001b[0m \u001b[32m━━━━━━━━━━━━━━━━━━━━\u001b[0m\u001b[37m\u001b[0m \u001b[1m7s\u001b[0m 5ms/step - accuracy: 0.8653 - loss: 0.3742\n",
            "Epoch 4/10\n",
            "\u001b[1m938/938\u001b[0m \u001b[32m━━━━━━━━━━━━━━━━━━━━\u001b[0m\u001b[37m\u001b[0m \u001b[1m3s\u001b[0m 3ms/step - accuracy: 0.8721 - loss: 0.3575\n",
            "Epoch 5/10\n",
            "\u001b[1m938/938\u001b[0m \u001b[32m━━━━━━━━━━━━━━━━━━━━\u001b[0m\u001b[37m\u001b[0m \u001b[1m3s\u001b[0m 3ms/step - accuracy: 0.8795 - loss: 0.3330\n",
            "Epoch 6/10\n",
            "\u001b[1m938/938\u001b[0m \u001b[32m━━━━━━━━━━━━━━━━━━━━\u001b[0m\u001b[37m\u001b[0m \u001b[1m7s\u001b[0m 5ms/step - accuracy: 0.8869 - loss: 0.3176\n",
            "Epoch 7/10\n",
            "\u001b[1m938/938\u001b[0m \u001b[32m━━━━━━━━━━━━━━━━━━━━\u001b[0m\u001b[37m\u001b[0m \u001b[1m3s\u001b[0m 3ms/step - accuracy: 0.8875 - loss: 0.3075\n",
            "Epoch 8/10\n",
            "\u001b[1m938/938\u001b[0m \u001b[32m━━━━━━━━━━━━━━━━━━━━\u001b[0m\u001b[37m\u001b[0m \u001b[1m3s\u001b[0m 3ms/step - accuracy: 0.8924 - loss: 0.2943\n",
            "Epoch 9/10\n",
            "\u001b[1m938/938\u001b[0m \u001b[32m━━━━━━━━━━━━━━━━━━━━\u001b[0m\u001b[37m\u001b[0m \u001b[1m3s\u001b[0m 3ms/step - accuracy: 0.8949 - loss: 0.2850\n",
            "Epoch 10/10\n",
            "\u001b[1m938/938\u001b[0m \u001b[32m━━━━━━━━━━━━━━━━━━━━\u001b[0m\u001b[37m\u001b[0m \u001b[1m6s\u001b[0m 4ms/step - accuracy: 0.9006 - loss: 0.2717\n"
          ]
        },
        {
          "output_type": "execute_result",
          "data": {
            "text/plain": [
              "<keras.src.callbacks.history.History at 0x79d535b4b820>"
            ]
          },
          "metadata": {},
          "execution_count": 12
        }
      ]
    },
    {
      "cell_type": "markdown",
      "metadata": {
        "id": "Bxr5hTKYOQnK"
      },
      "source": [
        "Para concluir el entrenamiento de la red neuronal, una buena practica es evaluar el modelo para ver si la precisión de entrenamiento es real\n",
        "\n",
        "**pregunta 2 (0.5 puntos)**: evalua el modelo con las imagenes y etiquetas test."
      ]
    },
    {
      "cell_type": "code",
      "metadata": {
        "id": "VNjQEtUUG4iI",
        "colab": {
          "base_uri": "https://localhost:8080/"
        },
        "outputId": "f424fbda-cc30-4c26-b789-a964469dc461"
      },
      "source": [
        "### Tu código para la evaluación de la red neuronal de la pregunta 2 aquí ###\n",
        "\n",
        "## Evaluando el Modelo\n",
        "\n",
        "test_loss, test_acc = model_128.evaluate(test_images, test_labels, verbose=2)\n",
        "\n",
        "print('\\nPrecisión en el conjunto de prueba:', test_acc)"
      ],
      "execution_count": 13,
      "outputs": [
        {
          "output_type": "stream",
          "name": "stdout",
          "text": [
            "313/313 - 1s - 2ms/step - accuracy: 0.8792 - loss: 0.3356\n",
            "\n",
            "Precisión en el conjunto de prueba: 0.8791999816894531\n"
          ]
        }
      ]
    },
    {
      "cell_type": "markdown",
      "metadata": {
        "id": "ygMVnmSYO83U"
      },
      "source": [
        "Ahora vamos a explorar el código con una serie de ejercicios para alcanzar un grado de comprensión mayor sobre las redes neuronales y su entrenamiento.\n",
        "\n",
        "# **Ejercicio 1: Funcionamiento de las predicción de la red neuronal**\n",
        "\n",
        "Para este primer ejercicio sigue los siguientes pasos:\n",
        "\n",
        "* Crea una variable llamada **classifications** para construir un clasificador para las imágenes de prueba, para ello puedes utilizar la función predict sobre el conjunto de test\n",
        "* Imprime con la función print la primera entrada en las clasificaciones.\n",
        "\n",
        "**pregunta 3.1 (0.25 puntos)**, el resultado al imprimirlo es un vector de números,\n",
        "* ¿Por qué crees que ocurre esto, y qué representa este vector de números?\n",
        "\n",
        "**pregunta 3.2 (0.25 puntos)**\n",
        "* ¿Cúal es la clase de la primera entrada#  de la variable **classifications**? La respuesta puede ser un número o su etiqueta/clase equivalente."
      ]
    },
    {
      "cell_type": "code",
      "metadata": {
        "id": "b-mL-h4xQhCm",
        "colab": {
          "base_uri": "https://localhost:8080/"
        },
        "outputId": "0bcae1e7-96a4-4c5f-b38e-5c338516a8ba"
      },
      "source": [
        "### Tu código del clasificador de la pregunta 3 aquí ###\n",
        "\n",
        "## Creacion del clasificador para las imagenes de prueba\n",
        "\n",
        "classifications = model_128.predict(test_images)\n",
        "\n",
        "## Impresion de la primera entrada del array en dicho clasificador,\n",
        "##  la cual es la prediccion del modelo para la primera imagen del conjunto de prueba\n",
        "\n",
        "print(classifications[0])\n"
      ],
      "execution_count": 20,
      "outputs": [
        {
          "output_type": "stream",
          "name": "stdout",
          "text": [
            "\u001b[1m313/313\u001b[0m \u001b[32m━━━━━━━━━━━━━━━━━━━━\u001b[0m\u001b[37m\u001b[0m \u001b[1m1s\u001b[0m 2ms/step\n",
            "[1.5652062e-05 2.0026769e-06 5.7791867e-06 4.1997787e-06 3.3354986e-06 4.7811206e-02 7.1001632e-05 3.8351875e-02 5.1030971e-04 9.1322458e-01]\n"
          ]
        }
      ]
    },
    {
      "cell_type": "markdown",
      "metadata": {
        "id": "pvbVC9gaQhMY"
      },
      "source": [
        "Tu respuesta a la pregunta 3.1 aquí:\n",
        "\n",
        "  Ese vector lo constituyen 10 números, que corresponden a la probabilidad predicha por el modelo de que la imagen pertenezca a una de las 10 Clases que conforman el Fashion MNIST, sé que son 10 Clases porque hemos entrenado la última capa con 10 neuronas."
      ]
    },
    {
      "cell_type": "markdown",
      "metadata": {
        "id": "oRWo-75tdgv0"
      },
      "source": [
        "Tu respuesta a la pregunta 3.2 aquí:"
      ]
    },
    {
      "cell_type": "code",
      "source": [
        "## Clase de la primera entrada de la variable classifications\n",
        "\n",
        "predicted_class_index = np.argmax(classifications[0])\n",
        "print(predicted_class_index)"
      ],
      "metadata": {
        "colab": {
          "base_uri": "https://localhost:8080/"
        },
        "id": "RwJnCrxpdAVJ",
        "outputId": "c08ed4c6-31c4-49f1-fd60-eab6da1f638c"
      },
      "execution_count": 25,
      "outputs": [
        {
          "output_type": "stream",
          "name": "stdout",
          "text": [
            "9\n"
          ]
        }
      ]
    },
    {
      "cell_type": "markdown",
      "source": [
        "De la documentación del Dataset podemos extraer una tabla que identifique que representa ese número, acá una referencia en español\n",
        "\n",
        "https://rpubs.com/fhernanb/keras_fashion_mnist\n",
        "\n",
        "![image.png](data:image/png;base64,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)"
      ],
      "metadata": {
        "id": "GXiQtSspe5ag"
      }
    },
    {
      "cell_type": "markdown",
      "source": [
        "Solo por curiosidad quiero ver esa imagen"
      ],
      "metadata": {
        "id": "UUpwNErRhJWU"
      }
    },
    {
      "cell_type": "code",
      "source": [
        "import matplotlib.pyplot as plt\n",
        "\n",
        "# Mostrar la primera imagen del conjunto de prueba\n",
        "plt.imshow(test_images[0], cmap=plt.cm.binary)\n",
        "plt.show()"
      ],
      "metadata": {
        "colab": {
          "base_uri": "https://localhost:8080/",
          "height": 430
        },
        "id": "BLpVEK27f6f1",
        "outputId": "a132a918-d6d7-4448-f254-f78499a4318d"
      },
      "execution_count": 26,
      "outputs": [
        {
          "output_type": "display_data",
          "data": {
            "text/plain": [
              "<Figure size 640x480 with 1 Axes>"
            ],
            "image/png": "[encoded data removed]"
          },
          "metadata": {}
        }
      ]
    },
    {
      "cell_type": "markdown",
      "metadata": {
        "id": "hiQ8qAzhRQ4L"
      },
      "source": [
        "# **Ejercicio 2: Impacto variar el número de neuronas en las capas ocultas**\n",
        "\n",
        "En este ejercicio vamos a experimentar con nuestra red neuronal cambiando el numero de neuronas por 512 y por 1024. Para ello, utiliza la red neuronal de la pregunta 1, y su capa oculta cambia las 128 neuronas:\n",
        "\n",
        "* **pregunta 4.1 (0.25 puntos)**: 512 neuronas en la capa oculta\n",
        "* **pregunta 4.2 (0.25 puntos)**:1024 neuronas en la capa oculta\n",
        "\n",
        "y entrena la red en ambos casos.\n",
        "\n",
        "**pregunta 4.3 (0.5 puntos)**: ¿Cual es el impacto que tiene la red neuronal?"
      ]
    },
    {
      "cell_type": "code",
      "metadata": {
        "id": "cdP8ZwuaUV93",
        "colab": {
          "base_uri": "https://localhost:8080/"
        },
        "outputId": "5c6985c8-ec4c-493e-8234-a8f9bc44dedd"
      },
      "source": [
        "### Tu código para 512 neuronas aquí ###\n",
        "\n",
        "## Definición del Modelo\n",
        "\n",
        "model_512 = tf.keras.models.Sequential([\n",
        "  tf.keras.layers.Flatten(input_shape=(28, 28)), # Aplana las imágenes de 28x28 a un vector de 784\n",
        "  tf.keras.layers.Dense(512, activation='sigmoid'), # Capa oculta con 512 neuronas y activación sigmoid\n",
        "  tf.keras.layers.Dense(10, activation='softmax') # Capa de salida con 10 neuronas (una por clase) y activación softmax\n",
        "])\n",
        "\n",
        "## Compilación del Modelo\n",
        "\n",
        "model_512.compile(optimizer='adam',\n",
        "              loss='sparse_categorical_crossentropy',\n",
        "              metrics=['accuracy'])\n",
        "\n",
        "## Entrenamiento del Modelo\n",
        "\n",
        "model_512.fit(training_images, training_labels, epochs=10, batch_size=64)\n",
        "\n",
        "## Evaluando el Modelo\n",
        "\n",
        "test_loss, test_acc = model_512.evaluate(test_images, test_labels, verbose=2)\n",
        "\n",
        "print('\\nPrecisión en el conjunto de prueba:', test_acc)\n",
        "\n"
      ],
      "execution_count": 28,
      "outputs": [
        {
          "output_type": "stream",
          "name": "stdout",
          "text": [
            "Epoch 1/10\n",
            "\u001b[1m938/938\u001b[0m \u001b[32m━━━━━━━━━━━━━━━━━━━━\u001b[0m\u001b[37m\u001b[0m \u001b[1m9s\u001b[0m 9ms/step - accuracy: 0.7548 - loss: 0.7088\n",
            "Epoch 2/10\n",
            "\u001b[1m938/938\u001b[0m \u001b[32m━━━━━━━━━━━━━━━━━━━━\u001b[0m\u001b[37m\u001b[0m \u001b[1m8s\u001b[0m 8ms/step - accuracy: 0.8526 - loss: 0.4084\n",
            "Epoch 3/10\n",
            "\u001b[1m938/938\u001b[0m \u001b[32m━━━━━━━━━━━━━━━━━━━━\u001b[0m\u001b[37m\u001b[0m \u001b[1m9s\u001b[0m 7ms/step - accuracy: 0.8683 - loss: 0.3696\n",
            "Epoch 4/10\n",
            "\u001b[1m938/938\u001b[0m \u001b[32m━━━━━━━━━━━━━━━━━━━━\u001b[0m\u001b[37m\u001b[0m \u001b[1m11s\u001b[0m 8ms/step - accuracy: 0.8743 - loss: 0.3440\n",
            "Epoch 5/10\n",
            "\u001b[1m938/938\u001b[0m \u001b[32m━━━━━━━━━━━━━━━━━━━━\u001b[0m\u001b[37m\u001b[0m \u001b[1m8s\u001b[0m 8ms/step - accuracy: 0.8822 - loss: 0.3170\n",
            "Epoch 6/10\n",
            "\u001b[1m938/938\u001b[0m \u001b[32m━━━━━━━━━━━━━━━━━━━━\u001b[0m\u001b[37m\u001b[0m \u001b[1m9s\u001b[0m 7ms/step - accuracy: 0.8881 - loss: 0.2996\n",
            "Epoch 7/10\n",
            "\u001b[1m938/938\u001b[0m \u001b[32m━━━━━━━━━━━━━━━━━━━━\u001b[0m\u001b[37m\u001b[0m \u001b[1m8s\u001b[0m 8ms/step - accuracy: 0.8974 - loss: 0.2798\n",
            "Epoch 8/10\n",
            "\u001b[1m938/938\u001b[0m \u001b[32m━━━━━━━━━━━━━━━━━━━━\u001b[0m\u001b[37m\u001b[0m \u001b[1m7s\u001b[0m 7ms/step - accuracy: 0.8993 - loss: 0.2677\n",
            "Epoch 9/10\n",
            "\u001b[1m938/938\u001b[0m \u001b[32m━━━━━━━━━━━━━━━━━━━━\u001b[0m\u001b[37m\u001b[0m \u001b[1m8s\u001b[0m 9ms/step - accuracy: 0.9032 - loss: 0.2557\n",
            "Epoch 10/10\n",
            "\u001b[1m938/938\u001b[0m \u001b[32m━━━━━━━━━━━━━━━━━━━━\u001b[0m\u001b[37m\u001b[0m \u001b[1m7s\u001b[0m 7ms/step - accuracy: 0.9069 - loss: 0.2531\n",
            "313/313 - 1s - 2ms/step - accuracy: 0.8827 - loss: 0.3251\n",
            "\n",
            "Precisión en el conjunto de prueba: 0.8827000260353088\n"
          ]
        }
      ]
    },
    {
      "cell_type": "markdown",
      "source": [
        "### Código para 1024 Neuronas"
      ],
      "metadata": {
        "id": "k9LgOQ58jHMO"
      }
    },
    {
      "cell_type": "code",
      "metadata": {
        "id": "YXBlbbfuUaPa",
        "colab": {
          "base_uri": "https://localhost:8080/"
        },
        "outputId": "b3150116-dce6-47fc-9e77-e23b80819643"
      },
      "source": [
        "### Tu código para 1024 neuronas aquí ###\n",
        "\n",
        "## Definición del Modelo\n",
        "\n",
        "model_1024 = tf.keras.models.Sequential([\n",
        "  tf.keras.layers.Flatten(input_shape=(28, 28)), # Aplana las imágenes de 28x28 a un vector de 784\n",
        "  tf.keras.layers.Dense(512, activation='sigmoid'), # Capa oculta con 512 neuronas y activación sigmoid\n",
        "  tf.keras.layers.Dense(10, activation='softmax') # Capa de salida con 10 neuronas (una por clase) y activación softmax\n",
        "])\n",
        "\n",
        "## Compilación del Modelo\n",
        "\n",
        "model_1024.compile(optimizer='adam',\n",
        "              loss='sparse_categorical_crossentropy',\n",
        "              metrics=['accuracy'])\n",
        "\n",
        "## Entrenamiento del Modelo\n",
        "\n",
        "model_1024.fit(training_images, training_labels, epochs=10, batch_size=64)\n",
        "\n",
        "## Evaluando el Modelo\n",
        "\n",
        "test_loss, test_acc = model_1024.evaluate(test_images, test_labels, verbose=2)\n",
        "\n",
        "print('\\nPrecisión en el conjunto de prueba:', test_acc)"
      ],
      "execution_count": 31,
      "outputs": [
        {
          "output_type": "stream",
          "name": "stderr",
          "text": [
            "/usr/local/lib/python3.10/dist-packages/keras/src/layers/reshaping/flatten.py:37: UserWarning: Do not pass an `input_shape`/`input_dim` argument to a layer. When using Sequential models, prefer using an `Input(shape)` object as the first layer in the model instead.\n",
            "  super().__init__(**kwargs)\n"
          ]
        },
        {
          "output_type": "stream",
          "name": "stdout",
          "text": [
            "Epoch 1/10\n",
            "\u001b[1m938/938\u001b[0m \u001b[32m━━━━━━━━━━━━━━━━━━━━\u001b[0m\u001b[37m\u001b[0m \u001b[1m9s\u001b[0m 8ms/step - accuracy: 0.7560 - loss: 0.7075\n",
            "Epoch 2/10\n",
            "\u001b[1m938/938\u001b[0m \u001b[32m━━━━━━━━━━━━━━━━━━━━\u001b[0m\u001b[37m\u001b[0m \u001b[1m7s\u001b[0m 7ms/step - accuracy: 0.8543 - loss: 0.4047\n",
            "Epoch 3/10\n",
            "\u001b[1m938/938\u001b[0m \u001b[32m━━━━━━━━━━━━━━━━━━━━\u001b[0m\u001b[37m\u001b[0m \u001b[1m10s\u001b[0m 7ms/step - accuracy: 0.8640 - loss: 0.3732\n",
            "Epoch 4/10\n",
            "\u001b[1m938/938\u001b[0m \u001b[32m━━━━━━━━━━━━━━━━━━━━\u001b[0m\u001b[37m\u001b[0m \u001b[1m10s\u001b[0m 10ms/step - accuracy: 0.8720 - loss: 0.3441\n",
            "Epoch 5/10\n",
            "\u001b[1m938/938\u001b[0m \u001b[32m━━━━━━━━━━━━━━━━━━━━\u001b[0m\u001b[37m\u001b[0m \u001b[1m7s\u001b[0m 7ms/step - accuracy: 0.8833 - loss: 0.3200\n",
            "Epoch 6/10\n",
            "\u001b[1m938/938\u001b[0m \u001b[32m━━━━━━━━━━━━━━━━━━━━\u001b[0m\u001b[37m\u001b[0m \u001b[1m8s\u001b[0m 9ms/step - accuracy: 0.8889 - loss: 0.3006\n",
            "Epoch 7/10\n",
            "\u001b[1m938/938\u001b[0m \u001b[32m━━━━━━━━━━━━━━━━━━━━\u001b[0m\u001b[37m\u001b[0m \u001b[1m7s\u001b[0m 7ms/step - accuracy: 0.8960 - loss: 0.2833\n",
            "Epoch 8/10\n",
            "\u001b[1m938/938\u001b[0m \u001b[32m━━━━━━━━━━━━━━━━━━━━\u001b[0m\u001b[37m\u001b[0m \u001b[1m8s\u001b[0m 8ms/step - accuracy: 0.9022 - loss: 0.2654\n",
            "Epoch 9/10\n",
            "\u001b[1m938/938\u001b[0m \u001b[32m━━━━━━━━━━━━━━━━━━━━\u001b[0m\u001b[37m\u001b[0m \u001b[1m7s\u001b[0m 7ms/step - accuracy: 0.9029 - loss: 0.2583\n",
            "Epoch 10/10\n",
            "\u001b[1m938/938\u001b[0m \u001b[32m━━━━━━━━━━━━━━━━━━━━\u001b[0m\u001b[37m\u001b[0m \u001b[1m8s\u001b[0m 8ms/step - accuracy: 0.9065 - loss: 0.2486\n",
            "313/313 - 1s - 2ms/step - accuracy: 0.8879 - loss: 0.3171\n",
            "\n",
            "Precisión en el conjunto de prueba: 0.8878999948501587\n"
          ]
        }
      ]
    },
    {
      "cell_type": "markdown",
      "metadata": {
        "id": "wG0h2HL-Uj93"
      },
      "source": [
        "Tu respuesta a la pregunta 4.3 aquí:\n",
        "\n",
        "###¿Cual es el impacto que tiene la red neuronal?\n",
        "\n",
        "  | Capas Ocultas | Accuracy           | Loss   | Precisión en el conjunto de prueba |\n",
        "|---------------|--------------------|--------|-------------------------------------|\n",
        "| 128           | 0.8792            | 0.3356 | 0.8792                             |\n",
        "| 512           | 0.8827            | 0.3251 | 0.8827                             |\n",
        "| 1024          | 0.8879            | 0.3171 | 0.8879                             |\n",
        "\n",
        "\n",
        "Descriptivamente hablando, en la tabla se aprecia como al aumentar las capas ocultas el Accuracy aumenta, el Lost disminuye y con ello la presición del conjunto de prueba aumenta también, a simple vista parecería que entre mas capaz ocultas mejor será el modelo, sin embargo, nos fue dado ya el tratamiento de los datos con sólo dos subconjuntos, Training and Test, no tenemos Validación, entonces no tenemos la capacidad de verificar si realmente estamos en el \"punto ideal\" o si por otro lado estamos haciendo \"Over Fitting\", es decir, que el modelo ya se aprendió el test \"de memoria\" por lo que podría no responder adecuadamente para datos nuevos."
      ]
    },
    {
      "cell_type": "markdown",
      "metadata": {
        "id": "b-NpUI9EVkVz"
      },
      "source": [
        "Si ahora entrenais el modelo de esta forma (con 512 y 1024 neuronas en la capa oculta) y volveis a ejecutar el predictor guardado en la variable **classifications**, escribir el código del clasificador del ejercicio 1 de nuevo e imprimid el primer objeto guardado en la variable classifications.\n",
        "\n",
        "**pregunta 5.1 (0.25 puntos)**:\n",
        "\n",
        "* ¿En que clase esta clasificado ahora la primera prenda de vestir de la variable classifications?\n",
        "\n",
        "**pregunta 5.2 (0.25 puntos)**:\n",
        "\n",
        "* ¿Porque crees que ha ocurrido esto?"
      ]
    },
    {
      "cell_type": "code",
      "source": [
        "### Tu código del clasificador de la pregunta 5 aquí ###\n",
        "\n",
        "classifications = model_512.predict(test_images)\n",
        "\n",
        "## Impresion de la primera entrada del array en dicho clasificador,\n",
        "##  la cual es la prediccion del modelo para la primera imagen del conjunto de prueba\n",
        "\n",
        "print(classifications[0])"
      ],
      "metadata": {
        "colab": {
          "base_uri": "https://localhost:8080/"
        },
        "id": "5cmdR4VVi0py",
        "outputId": "71a16ec2-8d25-4699-f391-008ce6c4f73c"
      },
      "execution_count": 29,
      "outputs": [
        {
          "output_type": "stream",
          "name": "stdout",
          "text": [
            "\u001b[1m313/313\u001b[0m \u001b[32m━━━━━━━━━━━━━━━━━━━━\u001b[0m\u001b[37m\u001b[0m \u001b[1m1s\u001b[0m 2ms/step\n",
            "[7.1505485e-07 2.9795532e-07 3.1499073e-06 6.6564058e-07 3.8324556e-06 5.5392943e-02 9.6093745e-06 2.0039244e-02 1.0225478e-05 9.2453933e-01]\n"
          ]
        }
      ]
    },
    {
      "cell_type": "code",
      "source": [
        "## Clase de la primera entrada de la variable classifications\n",
        "\n",
        "predicted_class_index = np.argmax(classifications[0])\n",
        "print(predicted_class_index)"
      ],
      "metadata": {
        "colab": {
          "base_uri": "https://localhost:8080/"
        },
        "id": "d8FeTPoai6es",
        "outputId": "143c3c76-0863-4ddd-f3fc-06a78a174fe6"
      },
      "execution_count": 30,
      "outputs": [
        {
          "output_type": "stream",
          "name": "stdout",
          "text": [
            "9\n"
          ]
        }
      ]
    },
    {
      "cell_type": "code",
      "source": [
        "## Creacion del clasificador para las imagenes de prueba\n",
        "\n",
        "classifications = model_1024.predict(test_images)\n",
        "\n",
        "## Impresion de la primera entrada del array en dicho clasificador,\n",
        "##  la cual es la prediccion del modelo para la primera imagen del conjunto de prueba\n",
        "\n",
        "print(classifications[0])"
      ],
      "metadata": {
        "colab": {
          "base_uri": "https://localhost:8080/"
        },
        "id": "DGESpv7fjU8H",
        "outputId": "9ea52935-11d3-4195-cba5-c07e350ac5ea"
      },
      "execution_count": 32,
      "outputs": [
        {
          "output_type": "stream",
          "name": "stdout",
          "text": [
            "\u001b[1m313/313\u001b[0m \u001b[32m━━━━━━━━━━━━━━━━━━━━\u001b[0m\u001b[37m\u001b[0m \u001b[1m1s\u001b[0m 3ms/step\n",
            "[1.8478086e-07 3.4932853e-08 4.9648867e-07 9.6156043e-08 2.9539387e-07 2.3839332e-03 1.8038847e-06 6.2459735e-03 2.4834092e-06 9.9136460e-01]\n"
          ]
        }
      ]
    },
    {
      "cell_type": "code",
      "source": [
        "## Clase de la primera entrada de la variable classifications\n",
        "\n",
        "predicted_class_index = np.argmax(classifications[0])\n",
        "print(predicted_class_index)"
      ],
      "metadata": {
        "colab": {
          "base_uri": "https://localhost:8080/"
        },
        "id": "NhUOeuhbjVaT",
        "outputId": "a1caa75b-4e42-451b-99ad-56f8de6bd5b2"
      },
      "execution_count": 33,
      "outputs": [
        {
          "output_type": "stream",
          "name": "stdout",
          "text": [
            "9\n"
          ]
        }
      ]
    },
    {
      "cell_type": "markdown",
      "source": [
        "## Tabla de vectores de los clasificadores de acuerdo al número de capas ocultas\n",
        "\n",
        "En la tabla los valores estas TODOS a e-7\n",
        "\n",
        "| C Ocultas | Clase 0 | Clase 1 | Clase 2 | Clase 3 | Clase 4 | Clase 5 | Clase 6 | Clase 7 | Clase 8 | Clase 9   |\n",
        "|---------------|---------|---------|---------|---------|---------|---------|---------|---------|---------|-----------|\n",
        "| 128           | 1565.21 | 200.27  | 577.92  | 419.98  | 333.55  | 4781120 | 710.02  | 3835187 | 51030.97 | 91322458.0 |\n",
        "| 512           | 71.51   | 29.80   | 314.99  | 66.56   | 383.25  | 5539294 | 96.09   | 2003924 | 102.25   | 92453933.0 |\n",
        "| 1024          | 18.48   | 3.49    | 49.65   | 9.62    | 29.54   | 238393.3| 1.80    | 624597.4| 2.48     | 99136460.0 |\n"
      ],
      "metadata": {
        "id": "8ohjgpgkrLiQ"
      }
    },
    {
      "cell_type": "markdown",
      "metadata": {
        "id": "P3NfwdOGZcAa"
      },
      "source": [
        "Tu respuesta a la pregunta 5.1 aquí:\n",
        "\n",
        "¿En que clase esta clasificado ahora la primera prenda de vestir de la variable classifications?\n",
        "\n",
        "Da la misma clase, la 9, por curiosidad arriba puse una tabla para entender mejor los resultados del clasificador creado en cada caso."
      ]
    },
    {
      "cell_type": "markdown",
      "metadata": {
        "id": "nFmfpxE1ZcJx"
      },
      "source": [
        "Tu respuesta a la pregunta 5.2 aquí:\n",
        "\n",
        "¿Porque crees que ha ocurrido esto?\n",
        "\n",
        "Lo que se nota en común para los tres escenarios (en la tabla de arriba) es que la clase 9 es la que tiene la probabilidad más alta, es la favorita, muchísimo mayor que el resto, me da miedo que entonces todo lo quiera clasificar como un botín, que de manera peculiar sí es la imagen inicial del test.\n",
        "\n",
        "Me atrevo a decir que existe un sesgo producto del desbalance de los datos del dataset."
      ]
    },
    {
      "cell_type": "markdown",
      "metadata": {
        "id": "59eM76O1YekZ"
      },
      "source": [
        "# **Ejercicio 3: ¿por qué es tan importante la capa Flatten?**\n",
        "\n",
        "En este ejercicio vamos a ver que ocurre cuando quitamos la capa flatten, para ello, escribe la red neuronal de la pregunta 1 y no pongas la capa Flatten.\n",
        "\n",
        "**pregunta 6 (0.5 puntos):** ¿puedes explicar porque da el error que da?\n",
        "\n"
      ]
    },
    {
      "cell_type": "code",
      "metadata": {
        "id": "ecfEVKEuG4iU",
        "colab": {
          "base_uri": "https://localhost:8080/",
          "height": 339
        },
        "outputId": "6d3efac1-90c4-4558-a872-438af5d69747"
      },
      "source": [
        "### Tu código de la red neuronal sin capa flatten de la pregunta 6 aquí ###\n",
        "\n",
        "## Definición del Modelo\n",
        "\n",
        "model_128 = tf.keras.models.Sequential([\n",
        "  ##tf.keras.layers.Flatten(input_shape=(28, 28)), # Aplana las imágenes de 28x28 a un vector de 784\n",
        "  tf.keras.layers.Dense(128, activation='sigmoid'), # Capa oculta con 128 neuronas y activación sigmoid\n",
        "  tf.keras.layers.Dense(10, activation='softmax') # Capa de salida con 10 neuronas (una por clase) y activación softmax\n",
        "])\n",
        "\n",
        "## Compilación del Modelo\n",
        "\n",
        "model_128.compile(optimizer='adam',\n",
        "              loss='sparse_categorical_crossentropy',\n",
        "              metrics=['accuracy'])\n",
        "\n",
        "## Entrenamiento del Modelo\n",
        "\n",
        "model_128.fit(training_images, training_labels, epochs=10, batch_size=64)"
      ],
      "execution_count": 35,
      "outputs": [
        {
          "output_type": "stream",
          "name": "stdout",
          "text": [
            "Epoch 1/10\n"
          ]
        },
        {
          "output_type": "error",
          "ename": "ValueError",
          "evalue": "Argument `output` must have rank (ndim) `target.ndim - 1`. Received: target.shape=(None,), output.shape=(None, 28, 10)",
          "traceback": [
            "\u001b[0;31m---------------------------------------------------------------------------\u001b[0m",
            "\u001b[0;31mValueError\u001b[0m                                Traceback (most recent call last)",
            "\u001b[0;32m<ipython-input-35-94460b240bcb>\u001b[0m in \u001b[0;36m<cell line: 19>\u001b[0;34m()\u001b[0m\n\u001b[1;32m     17\u001b[0m \u001b[0;31m## Entrenamiento del Modelo\u001b[0m\u001b[0;34m\u001b[0m\u001b[0;34m\u001b[0m\u001b[0m\n\u001b[1;32m     18\u001b[0m \u001b[0;34m\u001b[0m\u001b[0m\n\u001b[0;32m---> 19\u001b[0;31m \u001b[0mmodel_128\u001b[0m\u001b[0;34m.\u001b[0m\u001b[0mfit\u001b[0m\u001b[0;34m(\u001b[0m\u001b[0mtraining_images\u001b[0m\u001b[0;34m,\u001b[0m \u001b[0mtraining_labels\u001b[0m\u001b[0;34m,\u001b[0m \u001b[0mepochs\u001b[0m\u001b[0;34m=\u001b[0m\u001b[0;36m10\u001b[0m\u001b[0;34m,\u001b[0m \u001b[0mbatch_size\u001b[0m\u001b[0;34m=\u001b[0m\u001b[0;36m64\u001b[0m\u001b[0;34m)\u001b[0m\u001b[0;34m\u001b[0m\u001b[0;34m\u001b[0m\u001b[0m\n\u001b[0m",
            "\u001b[0;32m/usr/local/lib/python3.10/dist-packages/keras/src/utils/traceback_utils.py\u001b[0m in \u001b[0;36merror_handler\u001b[0;34m(*args, **kwargs)\u001b[0m\n\u001b[1;32m    120\u001b[0m             \u001b[0;31m# To get the full stack trace, call:\u001b[0m\u001b[0;34m\u001b[0m\u001b[0;34m\u001b[0m\u001b[0m\n\u001b[1;32m    121\u001b[0m             \u001b[0;31m# `keras.config.disable_traceback_filtering()`\u001b[0m\u001b[0;34m\u001b[0m\u001b[0;34m\u001b[0m\u001b[0m\n\u001b[0;32m--> 122\u001b[0;31m             \u001b[0;32mraise\u001b[0m \u001b[0me\u001b[0m\u001b[0;34m.\u001b[0m\u001b[0mwith_traceback\u001b[0m\u001b[0;34m(\u001b[0m\u001b[0mfiltered_tb\u001b[0m\u001b[0;34m)\u001b[0m \u001b[0;32mfrom\u001b[0m \u001b[0;32mNone\u001b[0m\u001b[0;34m\u001b[0m\u001b[0;34m\u001b[0m\u001b[0m\n\u001b[0m\u001b[1;32m    123\u001b[0m         \u001b[0;32mfinally\u001b[0m\u001b[0;34m:\u001b[0m\u001b[0;34m\u001b[0m\u001b[0;34m\u001b[0m\u001b[0m\n\u001b[1;32m    124\u001b[0m             \u001b[0;32mdel\u001b[0m \u001b[0mfiltered_tb\u001b[0m\u001b[0;34m\u001b[0m\u001b[0;34m\u001b[0m\u001b[0m\n",
            "\u001b[0;32m/usr/local/lib/python3.10/dist-packages/keras/src/backend/tensorflow/nn.py\u001b[0m in \u001b[0;36msparse_categorical_crossentropy\u001b[0;34m(target, output, from_logits, axis)\u001b[0m\n\u001b[1;32m    650\u001b[0m         )\n\u001b[1;32m    651\u001b[0m     \u001b[0;32mif\u001b[0m \u001b[0mlen\u001b[0m\u001b[0;34m(\u001b[0m\u001b[0mtarget\u001b[0m\u001b[0;34m.\u001b[0m\u001b[0mshape\u001b[0m\u001b[0;34m)\u001b[0m \u001b[0;34m!=\u001b[0m \u001b[0mlen\u001b[0m\u001b[0;34m(\u001b[0m\u001b[0moutput\u001b[0m\u001b[0;34m.\u001b[0m\u001b[0mshape\u001b[0m\u001b[0;34m[\u001b[0m\u001b[0;34m:\u001b[0m\u001b[0;34m-\u001b[0m\u001b[0;36m1\u001b[0m\u001b[0;34m]\u001b[0m\u001b[0;34m)\u001b[0m\u001b[0;34m:\u001b[0m\u001b[0;34m\u001b[0m\u001b[0;34m\u001b[0m\u001b[0m\n\u001b[0;32m--> 652\u001b[0;31m         raise ValueError(\n\u001b[0m\u001b[1;32m    653\u001b[0m             \u001b[0;34m\"Argument `output` must have rank (ndim) `target.ndim - 1`. \"\u001b[0m\u001b[0;34m\u001b[0m\u001b[0;34m\u001b[0m\u001b[0m\n\u001b[1;32m    654\u001b[0m             \u001b[0;34m\"Received: \"\u001b[0m\u001b[0;34m\u001b[0m\u001b[0;34m\u001b[0m\u001b[0m\n",
            "\u001b[0;31mValueError\u001b[0m: Argument `output` must have rank (ndim) `target.ndim - 1`. Received: target.shape=(None,), output.shape=(None, 28, 10)"
          ]
        }
      ]
    },
    {
      "cell_type": "markdown",
      "metadata": {
        "id": "-aNmrkkOZN6D"
      },
      "source": [
        "Tu respuesta a la pregunta 6 aquí:\n",
        "\n",
        "Las imagenes que estamos procesando son de dos dimensiones, Flatten las convierte en datos de 1 dimensión, esto es necesario ya que ambas, la red neuronal y la función de perdida que espera comparar la salida de la red neuronal con la etiqueta que es un número en una dimensión también."
      ]
    },
    {
      "cell_type": "markdown",
      "metadata": {
        "id": "f37cIr81ZYJj"
      },
      "source": [
        "# **Ejercicio 4: Número de neuronas de la capa de salida**\n",
        "Considerad la capa final, la de salida de la red neuronal de la pregunta 1.\n",
        "\n",
        "**pregunta 7.1 (0.25 puntos)**: ¿Por qué son 10 las neuronas de la última capa?\n",
        "\n",
        "**pregunta 7.2 (0.25 puntos)**: ¿Qué pasaría si tuvieras una cantidad diferente a 10?\n",
        "\n",
        "Por ejemplo, intenta entrenar la red con 5, para ello utiliza la red neuronal de la pregunta 1 y cambia a 5 el número de neuronas en la última capa."
      ]
    },
    {
      "cell_type": "code",
      "metadata": {
        "id": "FhbZkppYZOCS",
        "colab": {
          "base_uri": "https://localhost:8080/",
          "height": 1000
        },
        "outputId": "4049187c-32aa-468a-e1ed-7572034c7fa1"
      },
      "source": [
        "### Tu código de la red neuronal con 5 neuronas en la capa de salida de la pregunta 7 aquí ###\n",
        "\n",
        "## Definición del Modelo\n",
        "\n",
        "model_128 = tf.keras.models.Sequential([\n",
        "  tf.keras.layers.Flatten(input_shape=(28, 28)), # Aplana las imágenes de 28x28 a un vector de 784\n",
        "  tf.keras.layers.Dense(128, activation='sigmoid'), # Capa oculta con 128 neuronas y activación sigmoid\n",
        "  tf.keras.layers.Dense(5, activation='softmax') # Capa de salida con 5 neuronas (una por clase) y activación softmax\n",
        "])\n",
        "\n",
        "## Compilación del Modelo\n",
        "\n",
        "model_128.compile(optimizer='adam',\n",
        "              loss='sparse_categorical_crossentropy',\n",
        "              metrics=['accuracy'])\n",
        "\n",
        "## Entrenamiento del Modelo\n",
        "\n",
        "model_128.fit(training_images, training_labels, epochs=10, batch_size=64)"
      ],
      "execution_count": 36,
      "outputs": [
        {
          "output_type": "stream",
          "name": "stderr",
          "text": [
            "/usr/local/lib/python3.10/dist-packages/keras/src/layers/reshaping/flatten.py:37: UserWarning: Do not pass an `input_shape`/`input_dim` argument to a layer. When using Sequential models, prefer using an `Input(shape)` object as the first layer in the model instead.\n",
            "  super().__init__(**kwargs)\n"
          ]
        },
        {
          "output_type": "stream",
          "name": "stdout",
          "text": [
            "Epoch 1/10\n"
          ]
        },
        {
          "output_type": "error",
          "ename": "InvalidArgumentError",
          "evalue": "Graph execution error:\n\nDetected at node compile_loss/sparse_categorical_crossentropy/SparseSoftmaxCrossEntropyWithLogits/SparseSoftmaxCrossEntropyWithLogits defined at (most recent call last):\n  File \"/usr/lib/python3.10/runpy.py\", line 196, in _run_module_as_main\n\n  File \"/usr/lib/python3.10/runpy.py\", line 86, in _run_code\n\n  File \"/usr/local/lib/python3.10/dist-packages/colab_kernel_launcher.py\", line 37, in <module>\n\n  File \"/usr/local/lib/python3.10/dist-packages/traitlets/config/application.py\", line 992, in launch_instance\n\n  File \"/usr/local/lib/python3.10/dist-packages/ipykernel/kernelapp.py\", line 619, in start\n\n  File \"/usr/local/lib/python3.10/dist-packages/tornado/platform/asyncio.py\", line 195, in start\n\n  File \"/usr/lib/python3.10/asyncio/base_events.py\", line 603, in run_forever\n\n  File \"/usr/lib/python3.10/asyncio/base_events.py\", line 1909, in _run_once\n\n  File \"/usr/lib/python3.10/asyncio/events.py\", line 80, in _run\n\n  File \"/usr/local/lib/python3.10/dist-packages/tornado/ioloop.py\", line 685, in <lambda>\n\n  File \"/usr/local/lib/python3.10/dist-packages/tornado/ioloop.py\", line 738, in _run_callback\n\n  File \"/usr/local/lib/python3.10/dist-packages/tornado/gen.py\", line 825, in inner\n\n  File \"/usr/local/lib/python3.10/dist-packages/tornado/gen.py\", line 786, in run\n\n  File \"/usr/local/lib/python3.10/dist-packages/ipykernel/kernelbase.py\", line 361, in process_one\n\n  File \"/usr/local/lib/python3.10/dist-packages/tornado/gen.py\", line 234, in wrapper\n\n  File \"/usr/local/lib/python3.10/dist-packages/ipykernel/kernelbase.py\", line 261, in dispatch_shell\n\n  File \"/usr/local/lib/python3.10/dist-packages/tornado/gen.py\", line 234, in wrapper\n\n  File \"/usr/local/lib/python3.10/dist-packages/ipykernel/kernelbase.py\", line 539, in execute_request\n\n  File \"/usr/local/lib/python3.10/dist-packages/tornado/gen.py\", line 234, in wrapper\n\n  File \"/usr/local/lib/python3.10/dist-packages/ipykernel/ipkernel.py\", line 302, in do_execute\n\n  File \"/usr/local/lib/python3.10/dist-packages/ipykernel/zmqshell.py\", line 539, in run_cell\n\n  File \"/usr/local/lib/python3.10/dist-packages/IPython/core/interactiveshell.py\", line 2975, in run_cell\n\n  File \"/usr/local/lib/python3.10/dist-packages/IPython/core/interactiveshell.py\", line 3030, in _run_cell\n\n  File \"/usr/local/lib/python3.10/dist-packages/IPython/core/async_helpers.py\", line 78, in _pseudo_sync_runner\n\n  File \"/usr/local/lib/python3.10/dist-packages/IPython/core/interactiveshell.py\", line 3257, in run_cell_async\n\n  File \"/usr/local/lib/python3.10/dist-packages/IPython/core/interactiveshell.py\", line 3473, in run_ast_nodes\n\n  File \"/usr/local/lib/python3.10/dist-packages/IPython/core/interactiveshell.py\", line 3553, in run_code\n\n  File \"<ipython-input-36-1ef378438b17>\", line 19, in <cell line: 19>\n\n  File \"/usr/local/lib/python3.10/dist-packages/keras/src/utils/traceback_utils.py\", line 117, in error_handler\n\n  File \"/usr/local/lib/python3.10/dist-packages/keras/src/backend/tensorflow/trainer.py\", line 320, in fit\n\n  File \"/usr/local/lib/python3.10/dist-packages/keras/src/backend/tensorflow/trainer.py\", line 121, in one_step_on_iterator\n\n  File \"/usr/local/lib/python3.10/dist-packages/keras/src/backend/tensorflow/trainer.py\", line 108, in one_step_on_data\n\n  File \"/usr/local/lib/python3.10/dist-packages/keras/src/backend/tensorflow/trainer.py\", line 54, in train_step\n\n  File \"/usr/local/lib/python3.10/dist-packages/keras/src/trainers/trainer.py\", line 359, in _compute_loss\n\n  File \"/usr/local/lib/python3.10/dist-packages/keras/src/trainers/trainer.py\", line 327, in compute_loss\n\n  File \"/usr/local/lib/python3.10/dist-packages/keras/src/trainers/compile_utils.py\", line 611, in __call__\n\n  File \"/usr/local/lib/python3.10/dist-packages/keras/src/trainers/compile_utils.py\", line 652, in call\n\n  File \"/usr/local/lib/python3.10/dist-packages/keras/src/losses/loss.py\", line 60, in __call__\n\n  File \"/usr/local/lib/python3.10/dist-packages/keras/src/losses/losses.py\", line 27, in call\n\n  File \"/usr/local/lib/python3.10/dist-packages/keras/src/losses/losses.py\", line 1870, in sparse_categorical_crossentropy\n\n  File \"/usr/local/lib/python3.10/dist-packages/keras/src/ops/nn.py\", line 1559, in sparse_categorical_crossentropy\n\n  File \"/usr/local/lib/python3.10/dist-packages/keras/src/backend/tensorflow/nn.py\", line 671, in sparse_categorical_crossentropy\n\nReceived a label value of 9 which is outside the valid range of [0, 5).  Label values: 3 4 1 2 3 1 1 5 9 5 4 5 4 9 2 2 6 2 5 1 0 3 3 0 1 1 7 5 4 4 9 9 5 6 6 8 0 9 0 0 1 8 7 5 9 5 1 7 3 9 8 0 9 2 6 8 3 2 6 2 7 3 0 2\n\t [[{{node compile_loss/sparse_categorical_crossentropy/SparseSoftmaxCrossEntropyWithLogits/SparseSoftmaxCrossEntropyWithLogits}}]] [Op:__inference_one_step_on_iterator_179629]",
          "traceback": [
            "\u001b[0;31m---------------------------------------------------------------------------\u001b[0m",
            "\u001b[0;31mInvalidArgumentError\u001b[0m                      Traceback (most recent call last)",
            "\u001b[0;32m<ipython-input-36-1ef378438b17>\u001b[0m in \u001b[0;36m<cell line: 19>\u001b[0;34m()\u001b[0m\n\u001b[1;32m     17\u001b[0m \u001b[0;31m## Entrenamiento del Modelo\u001b[0m\u001b[0;34m\u001b[0m\u001b[0;34m\u001b[0m\u001b[0m\n\u001b[1;32m     18\u001b[0m \u001b[0;34m\u001b[0m\u001b[0m\n\u001b[0;32m---> 19\u001b[0;31m \u001b[0mmodel_128\u001b[0m\u001b[0;34m.\u001b[0m\u001b[0mfit\u001b[0m\u001b[0;34m(\u001b[0m\u001b[0mtraining_images\u001b[0m\u001b[0;34m,\u001b[0m \u001b[0mtraining_labels\u001b[0m\u001b[0;34m,\u001b[0m \u001b[0mepochs\u001b[0m\u001b[0;34m=\u001b[0m\u001b[0;36m10\u001b[0m\u001b[0;34m,\u001b[0m \u001b[0mbatch_size\u001b[0m\u001b[0;34m=\u001b[0m\u001b[0;36m64\u001b[0m\u001b[0;34m)\u001b[0m\u001b[0;34m\u001b[0m\u001b[0;34m\u001b[0m\u001b[0m\n\u001b[0m",
            "\u001b[0;32m/usr/local/lib/python3.10/dist-packages/keras/src/utils/traceback_utils.py\u001b[0m in \u001b[0;36merror_handler\u001b[0;34m(*args, **kwargs)\u001b[0m\n\u001b[1;32m    120\u001b[0m             \u001b[0;31m# To get the full stack trace, call:\u001b[0m\u001b[0;34m\u001b[0m\u001b[0;34m\u001b[0m\u001b[0m\n\u001b[1;32m    121\u001b[0m             \u001b[0;31m# `keras.config.disable_traceback_filtering()`\u001b[0m\u001b[0;34m\u001b[0m\u001b[0;34m\u001b[0m\u001b[0m\n\u001b[0;32m--> 122\u001b[0;31m             \u001b[0;32mraise\u001b[0m \u001b[0me\u001b[0m\u001b[0;34m.\u001b[0m\u001b[0mwith_traceback\u001b[0m\u001b[0;34m(\u001b[0m\u001b[0mfiltered_tb\u001b[0m\u001b[0;34m)\u001b[0m \u001b[0;32mfrom\u001b[0m \u001b[0;32mNone\u001b[0m\u001b[0;34m\u001b[0m\u001b[0;34m\u001b[0m\u001b[0m\n\u001b[0m\u001b[1;32m    123\u001b[0m         \u001b[0;32mfinally\u001b[0m\u001b[0;34m:\u001b[0m\u001b[0;34m\u001b[0m\u001b[0;34m\u001b[0m\u001b[0m\n\u001b[1;32m    124\u001b[0m             \u001b[0;32mdel\u001b[0m \u001b[0mfiltered_tb\u001b[0m\u001b[0;34m\u001b[0m\u001b[0;34m\u001b[0m\u001b[0m\n",
            "\u001b[0;32m/usr/local/lib/python3.10/dist-packages/tensorflow/python/eager/execute.py\u001b[0m in \u001b[0;36mquick_execute\u001b[0;34m(op_name, num_outputs, inputs, attrs, ctx, name)\u001b[0m\n\u001b[1;32m     51\u001b[0m   \u001b[0;32mtry\u001b[0m\u001b[0;34m:\u001b[0m\u001b[0;34m\u001b[0m\u001b[0;34m\u001b[0m\u001b[0m\n\u001b[1;32m     52\u001b[0m     \u001b[0mctx\u001b[0m\u001b[0;34m.\u001b[0m\u001b[0mensure_initialized\u001b[0m\u001b[0;34m(\u001b[0m\u001b[0;34m)\u001b[0m\u001b[0;34m\u001b[0m\u001b[0;34m\u001b[0m\u001b[0m\n\u001b[0;32m---> 53\u001b[0;31m     tensors = pywrap_tfe.TFE_Py_Execute(ctx._handle, device_name, op_name,\n\u001b[0m\u001b[1;32m     54\u001b[0m                                         inputs, attrs, num_outputs)\n\u001b[1;32m     55\u001b[0m   \u001b[0;32mexcept\u001b[0m \u001b[0mcore\u001b[0m\u001b[0;34m.\u001b[0m\u001b[0m_NotOkStatusException\u001b[0m \u001b[0;32mas\u001b[0m \u001b[0me\u001b[0m\u001b[0;34m:\u001b[0m\u001b[0;34m\u001b[0m\u001b[0;34m\u001b[0m\u001b[0m\n",
            "\u001b[0;31mInvalidArgumentError\u001b[0m: Graph execution error:\n\nDetected at node compile_loss/sparse_categorical_crossentropy/SparseSoftmaxCrossEntropyWithLogits/SparseSoftmaxCrossEntropyWithLogits defined at (most recent call last):\n  File \"/usr/lib/python3.10/runpy.py\", line 196, in _run_module_as_main\n\n  File \"/usr/lib/python3.10/runpy.py\", line 86, in _run_code\n\n  File \"/usr/local/lib/python3.10/dist-packages/colab_kernel_launcher.py\", line 37, in <module>\n\n  File \"/usr/local/lib/python3.10/dist-packages/traitlets/config/application.py\", line 992, in launch_instance\n\n  File \"/usr/local/lib/python3.10/dist-packages/ipykernel/kernelapp.py\", line 619, in start\n\n  File \"/usr/local/lib/python3.10/dist-packages/tornado/platform/asyncio.py\", line 195, in start\n\n  File \"/usr/lib/python3.10/asyncio/base_events.py\", line 603, in run_forever\n\n  File \"/usr/lib/python3.10/asyncio/base_events.py\", line 1909, in _run_once\n\n  File \"/usr/lib/python3.10/asyncio/events.py\", line 80, in _run\n\n  File \"/usr/local/lib/python3.10/dist-packages/tornado/ioloop.py\", line 685, in <lambda>\n\n  File \"/usr/local/lib/python3.10/dist-packages/tornado/ioloop.py\", line 738, in _run_callback\n\n  File \"/usr/local/lib/python3.10/dist-packages/tornado/gen.py\", line 825, in inner\n\n  File \"/usr/local/lib/python3.10/dist-packages/tornado/gen.py\", line 786, in run\n\n  File \"/usr/local/lib/python3.10/dist-packages/ipykernel/kernelbase.py\", line 361, in process_one\n\n  File \"/usr/local/lib/python3.10/dist-packages/tornado/gen.py\", line 234, in wrapper\n\n  File \"/usr/local/lib/python3.10/dist-packages/ipykernel/kernelbase.py\", line 261, in dispatch_shell\n\n  File \"/usr/local/lib/python3.10/dist-packages/tornado/gen.py\", line 234, in wrapper\n\n  File \"/usr/local/lib/python3.10/dist-packages/ipykernel/kernelbase.py\", line 539, in execute_request\n\n  File \"/usr/local/lib/python3.10/dist-packages/tornado/gen.py\", line 234, in wrapper\n\n  File \"/usr/local/lib/python3.10/dist-packages/ipykernel/ipkernel.py\", line 302, in do_execute\n\n  File \"/usr/local/lib/python3.10/dist-packages/ipykernel/zmqshell.py\", line 539, in run_cell\n\n  File \"/usr/local/lib/python3.10/dist-packages/IPython/core/interactiveshell.py\", line 2975, in run_cell\n\n  File \"/usr/local/lib/python3.10/dist-packages/IPython/core/interactiveshell.py\", line 3030, in _run_cell\n\n  File \"/usr/local/lib/python3.10/dist-packages/IPython/core/async_helpers.py\", line 78, in _pseudo_sync_runner\n\n  File \"/usr/local/lib/python3.10/dist-packages/IPython/core/interactiveshell.py\", line 3257, in run_cell_async\n\n  File \"/usr/local/lib/python3.10/dist-packages/IPython/core/interactiveshell.py\", line 3473, in run_ast_nodes\n\n  File \"/usr/local/lib/python3.10/dist-packages/IPython/core/interactiveshell.py\", line 3553, in run_code\n\n  File \"<ipython-input-36-1ef378438b17>\", line 19, in <cell line: 19>\n\n  File \"/usr/local/lib/python3.10/dist-packages/keras/src/utils/traceback_utils.py\", line 117, in error_handler\n\n  File \"/usr/local/lib/python3.10/dist-packages/keras/src/backend/tensorflow/trainer.py\", line 320, in fit\n\n  File \"/usr/local/lib/python3.10/dist-packages/keras/src/backend/tensorflow/trainer.py\", line 121, in one_step_on_iterator\n\n  File \"/usr/local/lib/python3.10/dist-packages/keras/src/backend/tensorflow/trainer.py\", line 108, in one_step_on_data\n\n  File \"/usr/local/lib/python3.10/dist-packages/keras/src/backend/tensorflow/trainer.py\", line 54, in train_step\n\n  File \"/usr/local/lib/python3.10/dist-packages/keras/src/trainers/trainer.py\", line 359, in _compute_loss\n\n  File \"/usr/local/lib/python3.10/dist-packages/keras/src/trainers/trainer.py\", line 327, in compute_loss\n\n  File \"/usr/local/lib/python3.10/dist-packages/keras/src/trainers/compile_utils.py\", line 611, in __call__\n\n  File \"/usr/local/lib/python3.10/dist-packages/keras/src/trainers/compile_utils.py\", line 652, in call\n\n  File \"/usr/local/lib/python3.10/dist-packages/keras/src/losses/loss.py\", line 60, in __call__\n\n  File \"/usr/local/lib/python3.10/dist-packages/keras/src/losses/losses.py\", line 27, in call\n\n  File \"/usr/local/lib/python3.10/dist-packages/keras/src/losses/losses.py\", line 1870, in sparse_categorical_crossentropy\n\n  File \"/usr/local/lib/python3.10/dist-packages/keras/src/ops/nn.py\", line 1559, in sparse_categorical_crossentropy\n\n  File \"/usr/local/lib/python3.10/dist-packages/keras/src/backend/tensorflow/nn.py\", line 671, in sparse_categorical_crossentropy\n\nReceived a label value of 9 which is outside the valid range of [0, 5).  Label values: 3 4 1 2 3 1 1 5 9 5 4 5 4 9 2 2 6 2 5 1 0 3 3 0 1 1 7 5 4 4 9 9 5 6 6 8 0 9 0 0 1 8 7 5 9 5 1 7 3 9 8 0 9 2 6 8 3 2 6 2 7 3 0 2\n\t [[{{node compile_loss/sparse_categorical_crossentropy/SparseSoftmaxCrossEntropyWithLogits/SparseSoftmaxCrossEntropyWithLogits}}]] [Op:__inference_one_step_on_iterator_179629]"
          ]
        }
      ]
    },
    {
      "cell_type": "markdown",
      "metadata": {
        "id": "SLsQcq-6aUoD"
      },
      "source": [
        "Tu respuestas a la pregunta 7.1 aquí:\n",
        "\n",
        "¿Por qué son 10 las neuronas de la última capa?\n",
        "\n",
        "Son 10 Capas porque el dataset es de 10 clases, al principio sólo lo inferí por ser las el número de nueronas de la última capa 10, pero para estar seguro busqué la documentación, arriba el link y la foto respectiva."
      ]
    },
    {
      "cell_type": "markdown",
      "metadata": {
        "id": "J1f_7ZFeaUu6"
      },
      "source": [
        "Tu respuestas a la pregunta 7.2 aquí:\n",
        "\n",
        "¿Qué pasaría si tuvieras una cantidad diferente a 10?\n",
        "\n",
        "Bueno, los lables son 10, por eso ocurre el error en el código, ya que al decirle que son sólo 5 clases el programa no sabe que hacer con el resto.\n"
      ]
    },
    {
      "cell_type": "markdown",
      "metadata": {
        "id": "HNIBCkshaf2y"
      },
      "source": [
        "# Ejercicio 5: Aumento de epoch y su efecto en la red neuronal\n",
        "En este ejercicio vamos a ver el impacto de aumentar los epoch en el entrenamiento. Usando la red neuronal de la pregunta 1:\n",
        "\n",
        "**pregunta 8.1 (0.20 puntos)**\n",
        "* Intentad 15 epoch para su entrenamiento, probablemente obtendras un modelo con una pérdida mucho mejor que el que tiene 5.\n",
        "\n",
        "**pregunta 8.2 (0.20 puntos)**\n",
        "* Intenta ahora con 30 epoch para su entrenamiento, podrás ver que el valor de la pérdida deja de disminuir, y a veces aumenta.\n",
        "\n",
        "**pregunta 8.3 (0.60 puntos)**\n",
        "* ¿Porque que piensas que ocurre esto? Explica tu respuesta y da el nombre de este efecto si lo conoces."
      ]
    },
    {
      "cell_type": "code",
      "metadata": {
        "id": "Cb5vk_imG4iZ",
        "colab": {
          "base_uri": "https://localhost:8080/"
        },
        "outputId": "28e7761f-14ce-4fc9-ed8d-01da587ff774"
      },
      "source": [
        "### Tu código para 15 epoch aquí ###\n",
        "\n",
        "## Definición del Modelo\n",
        "\n",
        "model_128 = tf.keras.models.Sequential([\n",
        "  tf.keras.layers.Flatten(input_shape=(28, 28)), # Aplana las imágenes de 28x28 a un vector de 784\n",
        "  tf.keras.layers.Dense(128, activation='sigmoid'), # Capa oculta con 128 neuronas y activación sigmoid\n",
        "  tf.keras.layers.Dense(10, activation='softmax') # Capa de salida con 5 neuronas (una por clase) y activación softmax\n",
        "])\n",
        "\n",
        "## Compilación del Modelo\n",
        "\n",
        "model_128.compile(optimizer='adam',\n",
        "              loss='sparse_categorical_crossentropy',\n",
        "              metrics=['accuracy'])\n",
        "\n",
        "## Entrenamiento del Modelo\n",
        "\n",
        "model_128.fit(training_images, training_labels, epochs=15, batch_size=64)"
      ],
      "execution_count": 37,
      "outputs": [
        {
          "output_type": "stream",
          "name": "stderr",
          "text": [
            "/usr/local/lib/python3.10/dist-packages/keras/src/layers/reshaping/flatten.py:37: UserWarning: Do not pass an `input_shape`/`input_dim` argument to a layer. When using Sequential models, prefer using an `Input(shape)` object as the first layer in the model instead.\n",
            "  super().__init__(**kwargs)\n"
          ]
        },
        {
          "output_type": "stream",
          "name": "stdout",
          "text": [
            "Epoch 1/15\n",
            "\u001b[1m938/938\u001b[0m \u001b[32m━━━━━━━━━━━━━━━━━━━━\u001b[0m\u001b[37m\u001b[0m \u001b[1m3s\u001b[0m 3ms/step - accuracy: 0.7388 - loss: 0.8248\n",
            "Epoch 2/15\n",
            "\u001b[1m938/938\u001b[0m \u001b[32m━━━━━━━━━━━━━━━━━━━━\u001b[0m\u001b[37m\u001b[0m \u001b[1m8s\u001b[0m 6ms/step - accuracy: 0.8487 - loss: 0.4210\n",
            "Epoch 3/15\n",
            "\u001b[1m938/938\u001b[0m \u001b[32m━━━━━━━━━━━━━━━━━━━━\u001b[0m\u001b[37m\u001b[0m \u001b[1m3s\u001b[0m 3ms/step - accuracy: 0.8634 - loss: 0.3774\n",
            "Epoch 4/15\n",
            "\u001b[1m938/938\u001b[0m \u001b[32m━━━━━━━━━━━━━━━━━━━━\u001b[0m\u001b[37m\u001b[0m \u001b[1m4s\u001b[0m 4ms/step - accuracy: 0.8727 - loss: 0.3530\n",
            "Epoch 5/15\n",
            "\u001b[1m938/938\u001b[0m \u001b[32m━━━━━━━━━━━━━━━━━━━━\u001b[0m\u001b[37m\u001b[0m \u001b[1m7s\u001b[0m 5ms/step - accuracy: 0.8822 - loss: 0.3262\n",
            "Epoch 6/15\n",
            "\u001b[1m938/938\u001b[0m \u001b[32m━━━━━━━━━━━━━━━━━━━━\u001b[0m\u001b[37m\u001b[0m \u001b[1m3s\u001b[0m 3ms/step - accuracy: 0.8864 - loss: 0.3165\n",
            "Epoch 7/15\n",
            "\u001b[1m938/938\u001b[0m \u001b[32m━━━━━━━━━━━━━━━━━━━━\u001b[0m\u001b[37m\u001b[0m \u001b[1m3s\u001b[0m 3ms/step - accuracy: 0.8887 - loss: 0.3036\n",
            "Epoch 8/15\n",
            "\u001b[1m938/938\u001b[0m \u001b[32m━━━━━━━━━━━━━━━━━━━━\u001b[0m\u001b[37m\u001b[0m \u001b[1m3s\u001b[0m 3ms/step - accuracy: 0.8942 - loss: 0.2942\n",
            "Epoch 9/15\n",
            "\u001b[1m938/938\u001b[0m \u001b[32m━━━━━━━━━━━━━━━━━━━━\u001b[0m\u001b[37m\u001b[0m \u001b[1m5s\u001b[0m 3ms/step - accuracy: 0.8978 - loss: 0.2792\n",
            "Epoch 10/15\n",
            "\u001b[1m938/938\u001b[0m \u001b[32m━━━━━━━━━━━━━━━━━━━━\u001b[0m\u001b[37m\u001b[0m \u001b[1m3s\u001b[0m 3ms/step - accuracy: 0.8982 - loss: 0.2743\n",
            "Epoch 11/15\n",
            "\u001b[1m938/938\u001b[0m \u001b[32m━━━━━━━━━━━━━━━━━━━━\u001b[0m\u001b[37m\u001b[0m \u001b[1m3s\u001b[0m 3ms/step - accuracy: 0.9034 - loss: 0.2649\n",
            "Epoch 12/15\n",
            "\u001b[1m938/938\u001b[0m \u001b[32m━━━━━━━━━━━━━━━━━━━━\u001b[0m\u001b[37m\u001b[0m \u001b[1m5s\u001b[0m 5ms/step - accuracy: 0.9044 - loss: 0.2567\n",
            "Epoch 13/15\n",
            "\u001b[1m938/938\u001b[0m \u001b[32m━━━━━━━━━━━━━━━━━━━━\u001b[0m\u001b[37m\u001b[0m \u001b[1m3s\u001b[0m 3ms/step - accuracy: 0.9113 - loss: 0.2433\n",
            "Epoch 14/15\n",
            "\u001b[1m938/938\u001b[0m \u001b[32m━━━━━━━━━━━━━━━━━━━━\u001b[0m\u001b[37m\u001b[0m \u001b[1m5s\u001b[0m 3ms/step - accuracy: 0.9128 - loss: 0.2390\n",
            "Epoch 15/15\n",
            "\u001b[1m938/938\u001b[0m \u001b[32m━━━━━━━━━━━━━━━━━━━━\u001b[0m\u001b[37m\u001b[0m \u001b[1m4s\u001b[0m 4ms/step - accuracy: 0.9123 - loss: 0.2367\n"
          ]
        },
        {
          "output_type": "execute_result",
          "data": {
            "text/plain": [
              "<keras.src.callbacks.history.History at 0x79d53b0ce320>"
            ]
          },
          "metadata": {},
          "execution_count": 37
        }
      ]
    },
    {
      "cell_type": "code",
      "source": [
        "## Evaluando el Modelo\n",
        "\n",
        "test_loss, test_acc = model_128.evaluate(test_images, test_labels, verbose=2)\n",
        "\n",
        "print('\\nPrecisión en el conjunto de prueba:', test_acc)"
      ],
      "metadata": {
        "colab": {
          "base_uri": "https://localhost:8080/"
        },
        "id": "WXclhI6R5Q2Q",
        "outputId": "905d1fb3-503c-4676-936e-d89bca5fe649"
      },
      "execution_count": 38,
      "outputs": [
        {
          "output_type": "stream",
          "name": "stdout",
          "text": [
            "313/313 - 1s - 2ms/step - accuracy: 0.8805 - loss: 0.3310\n",
            "\n",
            "Precisión en el conjunto de prueba: 0.8805000185966492\n"
          ]
        }
      ]
    },
    {
      "cell_type": "code",
      "metadata": {
        "id": "I9jQ26Gda5cv",
        "colab": {
          "base_uri": "https://localhost:8080/"
        },
        "outputId": "e4a920ee-001f-4af2-d813-b790bb7483ac"
      },
      "source": [
        "### Tu código para 30 epoch aquí ###\n",
        "\n",
        "## Definición del Modelo\n",
        "\n",
        "model_128 = tf.keras.models.Sequential([\n",
        "  tf.keras.layers.Flatten(input_shape=(28, 28)), # Aplana las imágenes de 28x28 a un vector de 784\n",
        "  tf.keras.layers.Dense(128, activation='sigmoid'), # Capa oculta con 128 neuronas y activación sigmoid\n",
        "  tf.keras.layers.Dense(10, activation='softmax') # Capa de salida con 5 neuronas (una por clase) y activación softmax\n",
        "])\n",
        "\n",
        "## Compilación del Modelo\n",
        "\n",
        "model_128.compile(optimizer='adam',\n",
        "              loss='sparse_categorical_crossentropy',\n",
        "              metrics=['accuracy'])\n",
        "\n",
        "## Entrenamiento del Modelo\n",
        "\n",
        "model_128.fit(training_images, training_labels, epochs=30, batch_size=64)"
      ],
      "execution_count": 39,
      "outputs": [
        {
          "output_type": "stream",
          "name": "stdout",
          "text": [
            "Epoch 1/30\n",
            "\u001b[1m938/938\u001b[0m \u001b[32m━━━━━━━━━━━━━━━━━━━━\u001b[0m\u001b[37m\u001b[0m \u001b[1m3s\u001b[0m 3ms/step - accuracy: 0.7383 - loss: 0.8292\n",
            "Epoch 2/30\n",
            "\u001b[1m938/938\u001b[0m \u001b[32m━━━━━━━━━━━━━━━━━━━━\u001b[0m\u001b[37m\u001b[0m \u001b[1m5s\u001b[0m 3ms/step - accuracy: 0.8528 - loss: 0.4196\n",
            "Epoch 3/30\n",
            "\u001b[1m938/938\u001b[0m \u001b[32m━━━━━━━━━━━━━━━━━━━━\u001b[0m\u001b[37m\u001b[0m \u001b[1m5s\u001b[0m 5ms/step - accuracy: 0.8612 - loss: 0.3824\n",
            "Epoch 4/30\n",
            "\u001b[1m938/938\u001b[0m \u001b[32m━━━━━━━━━━━━━━━━━━━━\u001b[0m\u001b[37m\u001b[0m \u001b[1m3s\u001b[0m 3ms/step - accuracy: 0.8729 - loss: 0.3548\n",
            "Epoch 5/30\n",
            "\u001b[1m938/938\u001b[0m \u001b[32m━━━━━━━━━━━━━━━━━━━━\u001b[0m\u001b[37m\u001b[0m \u001b[1m5s\u001b[0m 3ms/step - accuracy: 0.8812 - loss: 0.3352\n",
            "Epoch 6/30\n",
            "\u001b[1m938/938\u001b[0m \u001b[32m━━━━━━━━━━━━━━━━━━━━\u001b[0m\u001b[37m\u001b[0m \u001b[1m3s\u001b[0m 4ms/step - accuracy: 0.8831 - loss: 0.3210\n",
            "Epoch 7/30\n",
            "\u001b[1m938/938\u001b[0m \u001b[32m━━━━━━━━━━━━━━━━━━━━\u001b[0m\u001b[37m\u001b[0m \u001b[1m4s\u001b[0m 3ms/step - accuracy: 0.8901 - loss: 0.3046\n",
            "Epoch 8/30\n",
            "\u001b[1m938/938\u001b[0m \u001b[32m━━━━━━━━━━━━━━━━━━━━\u001b[0m\u001b[37m\u001b[0m \u001b[1m3s\u001b[0m 3ms/step - accuracy: 0.8939 - loss: 0.2907\n",
            "Epoch 9/30\n",
            "\u001b[1m938/938\u001b[0m \u001b[32m━━━━━━━━━━━━━━━━━━━━\u001b[0m\u001b[37m\u001b[0m \u001b[1m6s\u001b[0m 4ms/step - accuracy: 0.8982 - loss: 0.2816\n",
            "Epoch 10/30\n",
            "\u001b[1m938/938\u001b[0m \u001b[32m━━━━━━━━━━━━━━━━━━━━\u001b[0m\u001b[37m\u001b[0m \u001b[1m3s\u001b[0m 4ms/step - accuracy: 0.8991 - loss: 0.2726\n",
            "Epoch 11/30\n",
            "\u001b[1m938/938\u001b[0m \u001b[32m━━━━━━━━━━━━━━━━━━━━\u001b[0m\u001b[37m\u001b[0m \u001b[1m3s\u001b[0m 3ms/step - accuracy: 0.9032 - loss: 0.2637\n",
            "Epoch 12/30\n",
            "\u001b[1m938/938\u001b[0m \u001b[32m━━━━━━━━━━━━━━━━━━━━\u001b[0m\u001b[37m\u001b[0m \u001b[1m3s\u001b[0m 3ms/step - accuracy: 0.9075 - loss: 0.2536\n",
            "Epoch 13/30\n",
            "\u001b[1m938/938\u001b[0m \u001b[32m━━━━━━━━━━━━━━━━━━━━\u001b[0m\u001b[37m\u001b[0m \u001b[1m3s\u001b[0m 3ms/step - accuracy: 0.9120 - loss: 0.2443\n",
            "Epoch 14/30\n",
            "\u001b[1m938/938\u001b[0m \u001b[32m━━━━━━━━━━━━━━━━━━━━\u001b[0m\u001b[37m\u001b[0m \u001b[1m4s\u001b[0m 5ms/step - accuracy: 0.9130 - loss: 0.2410\n",
            "Epoch 15/30\n",
            "\u001b[1m938/938\u001b[0m \u001b[32m━━━━━━━━━━━━━━━━━━━━\u001b[0m\u001b[37m\u001b[0m \u001b[1m3s\u001b[0m 3ms/step - accuracy: 0.9158 - loss: 0.2315\n",
            "Epoch 16/30\n",
            "\u001b[1m938/938\u001b[0m \u001b[32m━━━━━━━━━━━━━━━━━━━━\u001b[0m\u001b[37m\u001b[0m \u001b[1m3s\u001b[0m 3ms/step - accuracy: 0.9149 - loss: 0.2316\n",
            "Epoch 17/30\n",
            "\u001b[1m938/938\u001b[0m \u001b[32m━━━━━━━━━━━━━━━━━━━━\u001b[0m\u001b[37m\u001b[0m \u001b[1m7s\u001b[0m 4ms/step - accuracy: 0.9199 - loss: 0.2219\n",
            "Epoch 18/30\n",
            "\u001b[1m938/938\u001b[0m \u001b[32m━━━━━━━━━━━━━━━━━━━━\u001b[0m\u001b[37m\u001b[0m \u001b[1m3s\u001b[0m 3ms/step - accuracy: 0.9199 - loss: 0.2198\n",
            "Epoch 19/30\n",
            "\u001b[1m938/938\u001b[0m \u001b[32m━━━━━━━━━━━━━━━━━━━━\u001b[0m\u001b[37m\u001b[0m \u001b[1m5s\u001b[0m 3ms/step - accuracy: 0.9236 - loss: 0.2082\n",
            "Epoch 20/30\n",
            "\u001b[1m938/938\u001b[0m \u001b[32m━━━━━━━━━━━━━━━━━━━━\u001b[0m\u001b[37m\u001b[0m \u001b[1m4s\u001b[0m 4ms/step - accuracy: 0.9229 - loss: 0.2065\n",
            "Epoch 21/30\n",
            "\u001b[1m938/938\u001b[0m \u001b[32m━━━━━━━━━━━━━━━━━━━━\u001b[0m\u001b[37m\u001b[0m \u001b[1m5s\u001b[0m 5ms/step - accuracy: 0.9295 - loss: 0.1958\n",
            "Epoch 22/30\n",
            "\u001b[1m938/938\u001b[0m \u001b[32m━━━━━━━━━━━━━━━━━━━━\u001b[0m\u001b[37m\u001b[0m \u001b[1m3s\u001b[0m 3ms/step - accuracy: 0.9295 - loss: 0.1979\n",
            "Epoch 23/30\n",
            "\u001b[1m938/938\u001b[0m \u001b[32m━━━━━━━━━━━━━━━━━━━━\u001b[0m\u001b[37m\u001b[0m \u001b[1m5s\u001b[0m 3ms/step - accuracy: 0.9304 - loss: 0.1938\n",
            "Epoch 24/30\n",
            "\u001b[1m938/938\u001b[0m \u001b[32m━━━━━━━━━━━━━━━━━━━━\u001b[0m\u001b[37m\u001b[0m \u001b[1m5s\u001b[0m 3ms/step - accuracy: 0.9316 - loss: 0.1870\n",
            "Epoch 25/30\n",
            "\u001b[1m938/938\u001b[0m \u001b[32m━━━━━━━━━━━━━━━━━━━━\u001b[0m\u001b[37m\u001b[0m \u001b[1m5s\u001b[0m 3ms/step - accuracy: 0.9342 - loss: 0.1822\n",
            "Epoch 26/30\n",
            "\u001b[1m938/938\u001b[0m \u001b[32m━━━━━━━━━━━━━━━━━━━━\u001b[0m\u001b[37m\u001b[0m \u001b[1m3s\u001b[0m 3ms/step - accuracy: 0.9352 - loss: 0.1789\n",
            "Epoch 27/30\n",
            "\u001b[1m938/938\u001b[0m \u001b[32m━━━━━━━━━━━━━━━━━━━━\u001b[0m\u001b[37m\u001b[0m \u001b[1m5s\u001b[0m 3ms/step - accuracy: 0.9373 - loss: 0.1749\n",
            "Epoch 28/30\n",
            "\u001b[1m938/938\u001b[0m \u001b[32m━━━━━━━━━━━━━━━━━━━━\u001b[0m\u001b[37m\u001b[0m \u001b[1m5s\u001b[0m 3ms/step - accuracy: 0.9385 - loss: 0.1699\n",
            "Epoch 29/30\n",
            "\u001b[1m938/938\u001b[0m \u001b[32m━━━━━━━━━━━━━━━━━━━━\u001b[0m\u001b[37m\u001b[0m \u001b[1m3s\u001b[0m 4ms/step - accuracy: 0.9380 - loss: 0.1711\n",
            "Epoch 30/30\n",
            "\u001b[1m938/938\u001b[0m \u001b[32m━━━━━━━━━━━━━━━━━━━━\u001b[0m\u001b[37m\u001b[0m \u001b[1m4s\u001b[0m 4ms/step - accuracy: 0.9412 - loss: 0.1621\n"
          ]
        },
        {
          "output_type": "execute_result",
          "data": {
            "text/plain": [
              "<keras.src.callbacks.history.History at 0x79d534e5e470>"
            ]
          },
          "metadata": {},
          "execution_count": 39
        }
      ]
    },
    {
      "cell_type": "code",
      "source": [
        "## Evaluando el Modelo\n",
        "\n",
        "test_loss, test_acc = model_128.evaluate(test_images, test_labels, verbose=2)\n",
        "\n",
        "print('\\nPrecisión en el conjunto de prueba:', test_acc)"
      ],
      "metadata": {
        "colab": {
          "base_uri": "https://localhost:8080/"
        },
        "id": "QcGI7pHA5lco",
        "outputId": "a00d9a72-b786-4916-d2bd-1a2faa7d45e5"
      },
      "execution_count": 40,
      "outputs": [
        {
          "output_type": "stream",
          "name": "stdout",
          "text": [
            "313/313 - 1s - 2ms/step - accuracy: 0.8909 - loss: 0.3199\n",
            "\n",
            "Precisión en el conjunto de prueba: 0.8909000158309937\n"
          ]
        }
      ]
    },
    {
      "cell_type": "markdown",
      "metadata": {
        "id": "Fs0fjzH4bmSR"
      },
      "source": [
        "Tu respuesta a la pregunta 8.3 aquí:\n",
        "\n",
        "8.1 Intentad 15 epoch para su entrenamiento, probablemente obtendras un modelo con una pérdida mucho mejor que el que tiene 10.\n",
        "\n",
        "8.2 Intenta ahora con 30 epoch para su entrenamiento, podrás ver que el valor de la pérdida deja de disminuir, y a veces aumenta.\n",
        "\n",
        "\n",
        "¿Porque piensas que ocurre esto? Explica tu respuesta y da el nombre de este efecto si lo conoces.\n",
        "\n",
        "Bueno, no observo que con 30 epocas el lost aumente, de nuevo, no tenemos los datos de validacion por lo tanto no podemos ver como se comporta, pero en teoría, si el lost empieza a aumentar cuando la tendencia era a la baja lo que estamos es en la presencia de un over fitting, eso puede indicar que los datos de entrenamiento ya están siendo memorizados y por lo tanto el modelo podría ya no ser apto para clasificar-predecir datos nuevos.\n",
        "\n",
        "\n",
        "\n",
        "\n",
        "| Épocas | Accuracy    | Loss    | Precisión en el conjunto de prueba |\n",
        "|--------|-------------|---------|------------------------------------|\n",
        "| 10     | 0.8792      | 0.3356  | 0.8791999816894531                |\n",
        "| 15     | 0.8805      | 0.3310  | 0.8805000185966492                |\n",
        "| 30     | 0.8909      | 0.3199  | 0.8909000158309937                |\n",
        "\n",
        "\n",
        "\n"
      ]
    },
    {
      "cell_type": "code",
      "source": [
        "## Probando con 120 Epochs para detectar posible overfitting\n",
        "\n",
        "\n",
        "## Definición del Modelo\n",
        "\n",
        "model_128 = tf.keras.models.Sequential([\n",
        "  tf.keras.layers.Flatten(input_shape=(28, 28)), # Aplana las imágenes de 28x28 a un vector de 784\n",
        "  tf.keras.layers.Dense(128, activation='sigmoid'), # Capa oculta con 128 neuronas y activación sigmoid\n",
        "  tf.keras.layers.Dense(10, activation='softmax') # Capa de salida con 10 neuronas (una por clase) y activación softmax\n",
        "])\n",
        "\n",
        "## Compilación del Modelo\n",
        "\n",
        "model_128.compile(optimizer='adam',\n",
        "              loss='sparse_categorical_crossentropy',\n",
        "              metrics=['accuracy'])\n",
        "\n",
        "## Entrenamiento del Modelo\n",
        "\n",
        "model_128.fit(training_images, training_labels, epochs=120, batch_size=64)"
      ],
      "metadata": {
        "colab": {
          "base_uri": "https://localhost:8080/"
        },
        "id": "CX84vF759bQ8",
        "outputId": "cbfdf049-b6a0-4ba5-dd06-9a7f9f77f3ef"
      },
      "execution_count": 45,
      "outputs": [
        {
          "output_type": "stream",
          "name": "stdout",
          "text": [
            "Epoch 1/120\n",
            "\u001b[1m938/938\u001b[0m \u001b[32m━━━━━━━━━━━━━━━━━━━━\u001b[0m\u001b[37m\u001b[0m \u001b[1m3s\u001b[0m 3ms/step - accuracy: 0.7285 - loss: 0.8607\n",
            "Epoch 2/120\n",
            "\u001b[1m938/938\u001b[0m \u001b[32m━━━━━━━━━━━━━━━━━━━━\u001b[0m\u001b[37m\u001b[0m \u001b[1m6s\u001b[0m 3ms/step - accuracy: 0.8469 - loss: 0.4301\n",
            "Epoch 3/120\n",
            "\u001b[1m938/938\u001b[0m \u001b[32m━━━━━━━━━━━━━━━━━━━━\u001b[0m\u001b[37m\u001b[0m \u001b[1m4s\u001b[0m 4ms/step - accuracy: 0.8614 - loss: 0.3810\n",
            "Epoch 4/120\n",
            "\u001b[1m938/938\u001b[0m \u001b[32m━━━━━━━━━━━━━━━━━━━━\u001b[0m\u001b[37m\u001b[0m \u001b[1m4s\u001b[0m 3ms/step - accuracy: 0.8743 - loss: 0.3484\n",
            "Epoch 5/120\n",
            "\u001b[1m938/938\u001b[0m \u001b[32m━━━━━━━━━━━━━━━━━━━━\u001b[0m\u001b[37m\u001b[0m \u001b[1m3s\u001b[0m 3ms/step - accuracy: 0.8803 - loss: 0.3359\n",
            "Epoch 6/120\n",
            "\u001b[1m938/938\u001b[0m \u001b[32m━━━━━━━━━━━━━━━━━━━━\u001b[0m\u001b[37m\u001b[0m \u001b[1m6s\u001b[0m 4ms/step - accuracy: 0.8871 - loss: 0.3167\n",
            "Epoch 7/120\n",
            "\u001b[1m938/938\u001b[0m \u001b[32m━━━━━━━━━━━━━━━━━━━━\u001b[0m\u001b[37m\u001b[0m \u001b[1m3s\u001b[0m 3ms/step - accuracy: 0.8903 - loss: 0.3057\n",
            "Epoch 8/120\n",
            "\u001b[1m938/938\u001b[0m \u001b[32m━━━━━━━━━━━━━━━━━━━━\u001b[0m\u001b[37m\u001b[0m \u001b[1m3s\u001b[0m 3ms/step - accuracy: 0.8919 - loss: 0.2938\n",
            "Epoch 9/120\n",
            "\u001b[1m938/938\u001b[0m \u001b[32m━━━━━━━━━━━━━━━━━━━━\u001b[0m\u001b[37m\u001b[0m \u001b[1m7s\u001b[0m 5ms/step - accuracy: 0.8980 - loss: 0.2796\n",
            "Epoch 10/120\n",
            "\u001b[1m938/938\u001b[0m \u001b[32m━━━━━━━━━━━━━━━━━━━━\u001b[0m\u001b[37m\u001b[0m \u001b[1m4s\u001b[0m 4ms/step - accuracy: 0.9018 - loss: 0.2691\n",
            "Epoch 11/120\n",
            "\u001b[1m938/938\u001b[0m \u001b[32m━━━━━━━━━━━━━━━━━━━━\u001b[0m\u001b[37m\u001b[0m \u001b[1m3s\u001b[0m 3ms/step - accuracy: 0.9045 - loss: 0.2643\n",
            "Epoch 12/120\n",
            "\u001b[1m938/938\u001b[0m \u001b[32m━━━━━━━━━━━━━━━━━━━━\u001b[0m\u001b[37m\u001b[0m \u001b[1m7s\u001b[0m 5ms/step - accuracy: 0.9048 - loss: 0.2579\n",
            "Epoch 13/120\n",
            "\u001b[1m938/938\u001b[0m \u001b[32m━━━━━━━━━━━━━━━━━━━━\u001b[0m\u001b[37m\u001b[0m \u001b[1m3s\u001b[0m 3ms/step - accuracy: 0.9093 - loss: 0.2453\n",
            "Epoch 14/120\n",
            "\u001b[1m938/938\u001b[0m \u001b[32m━━━━━━━━━━━━━━━━━━━━\u001b[0m\u001b[37m\u001b[0m \u001b[1m5s\u001b[0m 3ms/step - accuracy: 0.9101 - loss: 0.2463\n",
            "Epoch 15/120\n",
            "\u001b[1m938/938\u001b[0m \u001b[32m━━━━━━━━━━━━━━━━━━━━\u001b[0m\u001b[37m\u001b[0m \u001b[1m3s\u001b[0m 4ms/step - accuracy: 0.9140 - loss: 0.2378\n",
            "Epoch 16/120\n",
            "\u001b[1m938/938\u001b[0m \u001b[32m━━━━━━━━━━━━━━━━━━━━\u001b[0m\u001b[37m\u001b[0m \u001b[1m4s\u001b[0m 3ms/step - accuracy: 0.9180 - loss: 0.2243\n",
            "Epoch 17/120\n",
            "\u001b[1m938/938\u001b[0m \u001b[32m━━━━━━━━━━━━━━━━━━━━\u001b[0m\u001b[37m\u001b[0m \u001b[1m5s\u001b[0m 3ms/step - accuracy: 0.9181 - loss: 0.2226\n",
            "Epoch 18/120\n",
            "\u001b[1m938/938\u001b[0m \u001b[32m━━━━━━━━━━━━━━━━━━━━\u001b[0m\u001b[37m\u001b[0m \u001b[1m6s\u001b[0m 4ms/step - accuracy: 0.9222 - loss: 0.2147\n",
            "Epoch 19/120\n",
            "\u001b[1m938/938\u001b[0m \u001b[32m━━━━━━━━━━━━━━━━━━━━\u001b[0m\u001b[37m\u001b[0m \u001b[1m4s\u001b[0m 3ms/step - accuracy: 0.9211 - loss: 0.2132\n",
            "Epoch 20/120\n",
            "\u001b[1m938/938\u001b[0m \u001b[32m━━━━━━━━━━━━━━━━━━━━\u001b[0m\u001b[37m\u001b[0m \u001b[1m6s\u001b[0m 3ms/step - accuracy: 0.9239 - loss: 0.2103\n",
            "Epoch 21/120\n",
            "\u001b[1m938/938\u001b[0m \u001b[32m━━━━━━━━━━━━━━━━━━━━\u001b[0m\u001b[37m\u001b[0m \u001b[1m4s\u001b[0m 4ms/step - accuracy: 0.9258 - loss: 0.2030\n",
            "Epoch 22/120\n",
            "\u001b[1m938/938\u001b[0m \u001b[32m━━━━━━━━━━━━━━━━━━━━\u001b[0m\u001b[37m\u001b[0m \u001b[1m3s\u001b[0m 3ms/step - accuracy: 0.9286 - loss: 0.1955\n",
            "Epoch 23/120\n",
            "\u001b[1m938/938\u001b[0m \u001b[32m━━━━━━━━━━━━━━━━━━━━\u001b[0m\u001b[37m\u001b[0m \u001b[1m3s\u001b[0m 3ms/step - accuracy: 0.9307 - loss: 0.1925\n",
            "Epoch 24/120\n",
            "\u001b[1m938/938\u001b[0m \u001b[32m━━━━━━━━━━━━━━━━━━━━\u001b[0m\u001b[37m\u001b[0m \u001b[1m3s\u001b[0m 3ms/step - accuracy: 0.9328 - loss: 0.1872\n",
            "Epoch 25/120\n",
            "\u001b[1m938/938\u001b[0m \u001b[32m━━━━━━━━━━━━━━━━━━━━\u001b[0m\u001b[37m\u001b[0m \u001b[1m5s\u001b[0m 3ms/step - accuracy: 0.9319 - loss: 0.1872\n",
            "Epoch 26/120\n",
            "\u001b[1m938/938\u001b[0m \u001b[32m━━━━━━━━━━━━━━━━━━━━\u001b[0m\u001b[37m\u001b[0m \u001b[1m3s\u001b[0m 3ms/step - accuracy: 0.9347 - loss: 0.1823\n",
            "Epoch 27/120\n",
            "\u001b[1m938/938\u001b[0m \u001b[32m━━━━━━━━━━━━━━━━━━━━\u001b[0m\u001b[37m\u001b[0m \u001b[1m6s\u001b[0m 3ms/step - accuracy: 0.9363 - loss: 0.1785\n",
            "Epoch 28/120\n",
            "\u001b[1m938/938\u001b[0m \u001b[32m━━━━━━━━━━━━━━━━━━━━\u001b[0m\u001b[37m\u001b[0m \u001b[1m5s\u001b[0m 3ms/step - accuracy: 0.9381 - loss: 0.1738\n",
            "Epoch 29/120\n",
            "\u001b[1m938/938\u001b[0m \u001b[32m━━━━━━━━━━━━━━━━━━━━\u001b[0m\u001b[37m\u001b[0m \u001b[1m3s\u001b[0m 3ms/step - accuracy: 0.9392 - loss: 0.1670\n",
            "Epoch 30/120\n",
            "\u001b[1m938/938\u001b[0m \u001b[32m━━━━━━━━━━━━━━━━━━━━\u001b[0m\u001b[37m\u001b[0m \u001b[1m6s\u001b[0m 4ms/step - accuracy: 0.9421 - loss: 0.1614\n",
            "Epoch 31/120\n",
            "\u001b[1m938/938\u001b[0m \u001b[32m━━━━━━━━━━━━━━━━━━━━\u001b[0m\u001b[37m\u001b[0m \u001b[1m5s\u001b[0m 5ms/step - accuracy: 0.9434 - loss: 0.1596\n",
            "Epoch 32/120\n",
            "\u001b[1m938/938\u001b[0m \u001b[32m━━━━━━━━━━━━━━━━━━━━\u001b[0m\u001b[37m\u001b[0m \u001b[1m3s\u001b[0m 3ms/step - accuracy: 0.9453 - loss: 0.1544\n",
            "Epoch 33/120\n",
            "\u001b[1m938/938\u001b[0m \u001b[32m━━━━━━━━━━━━━━━━━━━━\u001b[0m\u001b[37m\u001b[0m \u001b[1m5s\u001b[0m 3ms/step - accuracy: 0.9451 - loss: 0.1521\n",
            "Epoch 34/120\n",
            "\u001b[1m938/938\u001b[0m \u001b[32m━━━━━━━━━━━━━━━━━━━━\u001b[0m\u001b[37m\u001b[0m \u001b[1m5s\u001b[0m 3ms/step - accuracy: 0.9461 - loss: 0.1501\n",
            "Epoch 35/120\n",
            "\u001b[1m938/938\u001b[0m \u001b[32m━━━━━━━━━━━━━━━━━━━━\u001b[0m\u001b[37m\u001b[0m \u001b[1m5s\u001b[0m 3ms/step - accuracy: 0.9474 - loss: 0.1469\n",
            "Epoch 36/120\n",
            "\u001b[1m938/938\u001b[0m \u001b[32m━━━━━━━━━━━━━━━━━━━━\u001b[0m\u001b[37m\u001b[0m \u001b[1m6s\u001b[0m 4ms/step - accuracy: 0.9494 - loss: 0.1417\n",
            "Epoch 37/120\n",
            "\u001b[1m938/938\u001b[0m \u001b[32m━━━━━━━━━━━━━━━━━━━━\u001b[0m\u001b[37m\u001b[0m \u001b[1m4s\u001b[0m 3ms/step - accuracy: 0.9503 - loss: 0.1391\n",
            "Epoch 38/120\n",
            "\u001b[1m938/938\u001b[0m \u001b[32m━━━━━━━━━━━━━━━━━━━━\u001b[0m\u001b[37m\u001b[0m \u001b[1m6s\u001b[0m 4ms/step - accuracy: 0.9502 - loss: 0.1393\n",
            "Epoch 39/120\n",
            "\u001b[1m938/938\u001b[0m \u001b[32m━━━━━━━━━━━━━━━━━━━━\u001b[0m\u001b[37m\u001b[0m \u001b[1m4s\u001b[0m 3ms/step - accuracy: 0.9522 - loss: 0.1348\n",
            "Epoch 40/120\n",
            "\u001b[1m938/938\u001b[0m \u001b[32m━━━━━━━━━━━━━━━━━━━━\u001b[0m\u001b[37m\u001b[0m \u001b[1m3s\u001b[0m 3ms/step - accuracy: 0.9542 - loss: 0.1326\n",
            "Epoch 41/120\n",
            "\u001b[1m938/938\u001b[0m \u001b[32m━━━━━━━━━━━━━━━━━━━━\u001b[0m\u001b[37m\u001b[0m \u001b[1m6s\u001b[0m 4ms/step - accuracy: 0.9543 - loss: 0.1299\n",
            "Epoch 42/120\n",
            "\u001b[1m938/938\u001b[0m \u001b[32m━━━━━━━━━━━━━━━━━━━━\u001b[0m\u001b[37m\u001b[0m \u001b[1m3s\u001b[0m 4ms/step - accuracy: 0.9563 - loss: 0.1258\n",
            "Epoch 43/120\n",
            "\u001b[1m938/938\u001b[0m \u001b[32m━━━━━━━━━━━━━━━━━━━━\u001b[0m\u001b[37m\u001b[0m \u001b[1m4s\u001b[0m 4ms/step - accuracy: 0.9553 - loss: 0.1256\n",
            "Epoch 44/120\n",
            "\u001b[1m938/938\u001b[0m \u001b[32m━━━━━━━━━━━━━━━━━━━━\u001b[0m\u001b[37m\u001b[0m \u001b[1m4s\u001b[0m 4ms/step - accuracy: 0.9565 - loss: 0.1219\n",
            "Epoch 45/120\n",
            "\u001b[1m938/938\u001b[0m \u001b[32m━━━━━━━━━━━━━━━━━━━━\u001b[0m\u001b[37m\u001b[0m \u001b[1m5s\u001b[0m 4ms/step - accuracy: 0.9584 - loss: 0.1175\n",
            "Epoch 46/120\n",
            "\u001b[1m938/938\u001b[0m \u001b[32m━━━━━━━━━━━━━━━━━━━━\u001b[0m\u001b[37m\u001b[0m \u001b[1m4s\u001b[0m 3ms/step - accuracy: 0.9614 - loss: 0.1137\n",
            "Epoch 47/120\n",
            "\u001b[1m938/938\u001b[0m \u001b[32m━━━━━━━━━━━━━━━━━━━━\u001b[0m\u001b[37m\u001b[0m \u001b[1m3s\u001b[0m 3ms/step - accuracy: 0.9598 - loss: 0.1144\n",
            "Epoch 48/120\n",
            "\u001b[1m938/938\u001b[0m \u001b[32m━━━━━━━━━━━━━━━━━━━━\u001b[0m\u001b[37m\u001b[0m \u001b[1m4s\u001b[0m 4ms/step - accuracy: 0.9609 - loss: 0.1116\n",
            "Epoch 49/120\n",
            "\u001b[1m938/938\u001b[0m \u001b[32m━━━━━━━━━━━━━━━━━━━━\u001b[0m\u001b[37m\u001b[0m \u001b[1m4s\u001b[0m 3ms/step - accuracy: 0.9620 - loss: 0.1098\n",
            "Epoch 50/120\n",
            "\u001b[1m938/938\u001b[0m \u001b[32m━━━━━━━━━━━━━━━━━━━━\u001b[0m\u001b[37m\u001b[0m \u001b[1m3s\u001b[0m 3ms/step - accuracy: 0.9640 - loss: 0.1062\n",
            "Epoch 51/120\n",
            "\u001b[1m938/938\u001b[0m \u001b[32m━━━━━━━━━━━━━━━━━━━━\u001b[0m\u001b[37m\u001b[0m \u001b[1m3s\u001b[0m 3ms/step - accuracy: 0.9654 - loss: 0.1033\n",
            "Epoch 52/120\n",
            "\u001b[1m938/938\u001b[0m \u001b[32m━━━━━━━━━━━━━━━━━━━━\u001b[0m\u001b[37m\u001b[0m \u001b[1m4s\u001b[0m 5ms/step - accuracy: 0.9654 - loss: 0.0999\n",
            "Epoch 53/120\n",
            "\u001b[1m938/938\u001b[0m \u001b[32m━━━━━━━━━━━━━━━━━━━━\u001b[0m\u001b[37m\u001b[0m \u001b[1m4s\u001b[0m 3ms/step - accuracy: 0.9666 - loss: 0.0991\n",
            "Epoch 54/120\n",
            "\u001b[1m938/938\u001b[0m \u001b[32m━━━━━━━━━━━━━━━━━━━━\u001b[0m\u001b[37m\u001b[0m \u001b[1m5s\u001b[0m 3ms/step - accuracy: 0.9670 - loss: 0.0957\n",
            "Epoch 55/120\n",
            "\u001b[1m938/938\u001b[0m \u001b[32m━━━━━━━━━━━━━━━━━━━━\u001b[0m\u001b[37m\u001b[0m \u001b[1m6s\u001b[0m 4ms/step - accuracy: 0.9687 - loss: 0.0943\n",
            "Epoch 56/120\n",
            "\u001b[1m938/938\u001b[0m \u001b[32m━━━━━━━━━━━━━━━━━━━━\u001b[0m\u001b[37m\u001b[0m \u001b[1m4s\u001b[0m 3ms/step - accuracy: 0.9685 - loss: 0.0931\n",
            "Epoch 57/120\n",
            "\u001b[1m938/938\u001b[0m \u001b[32m━━━━━━━━━━━━━━━━━━━━\u001b[0m\u001b[37m\u001b[0m \u001b[1m6s\u001b[0m 4ms/step - accuracy: 0.9687 - loss: 0.0906\n",
            "Epoch 58/120\n",
            "\u001b[1m938/938\u001b[0m \u001b[32m━━━━━━━━━━━━━━━━━━━━\u001b[0m\u001b[37m\u001b[0m \u001b[1m5s\u001b[0m 3ms/step - accuracy: 0.9699 - loss: 0.0889\n",
            "Epoch 59/120\n",
            "\u001b[1m938/938\u001b[0m \u001b[32m━━━━━━━━━━━━━━━━━━━━\u001b[0m\u001b[37m\u001b[0m \u001b[1m3s\u001b[0m 3ms/step - accuracy: 0.9703 - loss: 0.0885\n",
            "Epoch 60/120\n",
            "\u001b[1m938/938\u001b[0m \u001b[32m━━━━━━━━━━━━━━━━━━━━\u001b[0m\u001b[37m\u001b[0m \u001b[1m3s\u001b[0m 3ms/step - accuracy: 0.9716 - loss: 0.0853\n",
            "Epoch 61/120\n",
            "\u001b[1m938/938\u001b[0m \u001b[32m━━━━━━━━━━━━━━━━━━━━\u001b[0m\u001b[37m\u001b[0m \u001b[1m5s\u001b[0m 3ms/step - accuracy: 0.9711 - loss: 0.0845\n",
            "Epoch 62/120\n",
            "\u001b[1m938/938\u001b[0m \u001b[32m━━━━━━━━━━━━━━━━━━━━\u001b[0m\u001b[37m\u001b[0m \u001b[1m3s\u001b[0m 3ms/step - accuracy: 0.9732 - loss: 0.0825\n",
            "Epoch 63/120\n",
            "\u001b[1m938/938\u001b[0m \u001b[32m━━━━━━━━━━━━━━━━━━━━\u001b[0m\u001b[37m\u001b[0m \u001b[1m5s\u001b[0m 3ms/step - accuracy: 0.9743 - loss: 0.0788\n",
            "Epoch 64/120\n",
            "\u001b[1m938/938\u001b[0m \u001b[32m━━━━━━━━━━━━━━━━━━━━\u001b[0m\u001b[37m\u001b[0m \u001b[1m4s\u001b[0m 5ms/step - accuracy: 0.9746 - loss: 0.0767\n",
            "Epoch 65/120\n",
            "\u001b[1m938/938\u001b[0m \u001b[32m━━━━━━━━━━━━━━━━━━━━\u001b[0m\u001b[37m\u001b[0m \u001b[1m5s\u001b[0m 4ms/step - accuracy: 0.9747 - loss: 0.0756\n",
            "Epoch 66/120\n",
            "\u001b[1m938/938\u001b[0m \u001b[32m━━━━━━━━━━━━━━━━━━━━\u001b[0m\u001b[37m\u001b[0m \u001b[1m4s\u001b[0m 3ms/step - accuracy: 0.9761 - loss: 0.0739\n",
            "Epoch 67/120\n",
            "\u001b[1m938/938\u001b[0m \u001b[32m━━━━━━━━━━━━━━━━━━━━\u001b[0m\u001b[37m\u001b[0m \u001b[1m5s\u001b[0m 3ms/step - accuracy: 0.9763 - loss: 0.0719\n",
            "Epoch 68/120\n",
            "\u001b[1m938/938\u001b[0m \u001b[32m━━━━━━━━━━━━━━━━━━━━\u001b[0m\u001b[37m\u001b[0m \u001b[1m3s\u001b[0m 3ms/step - accuracy: 0.9770 - loss: 0.0711\n",
            "Epoch 69/120\n",
            "\u001b[1m938/938\u001b[0m \u001b[32m━━━━━━━━━━━━━━━━━━━━\u001b[0m\u001b[37m\u001b[0m \u001b[1m3s\u001b[0m 3ms/step - accuracy: 0.9770 - loss: 0.0693\n",
            "Epoch 70/120\n",
            "\u001b[1m938/938\u001b[0m \u001b[32m━━━━━━━━━━━━━━━━━━━━\u001b[0m\u001b[37m\u001b[0m \u001b[1m6s\u001b[0m 4ms/step - accuracy: 0.9755 - loss: 0.0735\n",
            "Epoch 71/120\n",
            "\u001b[1m938/938\u001b[0m \u001b[32m━━━━━━━━━━━━━━━━━━━━\u001b[0m\u001b[37m\u001b[0m \u001b[1m3s\u001b[0m 3ms/step - accuracy: 0.9781 - loss: 0.0674\n",
            "Epoch 72/120\n",
            "\u001b[1m938/938\u001b[0m \u001b[32m━━━━━━━━━━━━━━━━━━━━\u001b[0m\u001b[37m\u001b[0m \u001b[1m3s\u001b[0m 3ms/step - accuracy: 0.9776 - loss: 0.0686\n",
            "Epoch 73/120\n",
            "\u001b[1m938/938\u001b[0m \u001b[32m━━━━━━━━━━━━━━━━━━━━\u001b[0m\u001b[37m\u001b[0m \u001b[1m7s\u001b[0m 5ms/step - accuracy: 0.9799 - loss: 0.0638\n",
            "Epoch 74/120\n",
            "\u001b[1m938/938\u001b[0m \u001b[32m━━━━━━━━━━━━━━━━━━━━\u001b[0m\u001b[37m\u001b[0m \u001b[1m3s\u001b[0m 3ms/step - accuracy: 0.9790 - loss: 0.0636\n",
            "Epoch 75/120\n",
            "\u001b[1m938/938\u001b[0m \u001b[32m━━━━━━━━━━━━━━━━━━━━\u001b[0m\u001b[37m\u001b[0m \u001b[1m3s\u001b[0m 3ms/step - accuracy: 0.9800 - loss: 0.0620\n",
            "Epoch 76/120\n",
            "\u001b[1m938/938\u001b[0m \u001b[32m━━━━━━━━━━━━━━━━━━━━\u001b[0m\u001b[37m\u001b[0m \u001b[1m6s\u001b[0m 4ms/step - accuracy: 0.9793 - loss: 0.0614\n",
            "Epoch 77/120\n",
            "\u001b[1m938/938\u001b[0m \u001b[32m━━━━━━━━━━━━━━━━━━━━\u001b[0m\u001b[37m\u001b[0m \u001b[1m4s\u001b[0m 3ms/step - accuracy: 0.9800 - loss: 0.0616\n",
            "Epoch 78/120\n",
            "\u001b[1m938/938\u001b[0m \u001b[32m━━━━━━━━━━━━━━━━━━━━\u001b[0m\u001b[37m\u001b[0m \u001b[1m7s\u001b[0m 5ms/step - accuracy: 0.9811 - loss: 0.0594\n",
            "Epoch 79/120\n",
            "\u001b[1m938/938\u001b[0m \u001b[32m━━━━━━━━━━━━━━━━━━━━\u001b[0m\u001b[37m\u001b[0m \u001b[1m4s\u001b[0m 4ms/step - accuracy: 0.9802 - loss: 0.0602\n",
            "Epoch 80/120\n",
            "\u001b[1m938/938\u001b[0m \u001b[32m━━━━━━━━━━━━━━━━━━━━\u001b[0m\u001b[37m\u001b[0m \u001b[1m3s\u001b[0m 3ms/step - accuracy: 0.9832 - loss: 0.0540\n",
            "Epoch 81/120\n",
            "\u001b[1m938/938\u001b[0m \u001b[32m━━━━━━━━━━━━━━━━━━━━\u001b[0m\u001b[37m\u001b[0m \u001b[1m3s\u001b[0m 3ms/step - accuracy: 0.9828 - loss: 0.0546\n",
            "Epoch 82/120\n",
            "\u001b[1m938/938\u001b[0m \u001b[32m━━━━━━━━━━━━━━━━━━━━\u001b[0m\u001b[37m\u001b[0m \u001b[1m7s\u001b[0m 5ms/step - accuracy: 0.9829 - loss: 0.0536\n",
            "Epoch 83/120\n",
            "\u001b[1m938/938\u001b[0m \u001b[32m━━━━━━━━━━━━━━━━━━━━\u001b[0m\u001b[37m\u001b[0m \u001b[1m3s\u001b[0m 3ms/step - accuracy: 0.9844 - loss: 0.0509\n",
            "Epoch 84/120\n",
            "\u001b[1m938/938\u001b[0m \u001b[32m━━━━━━━━━━━━━━━━━━━━\u001b[0m\u001b[37m\u001b[0m \u001b[1m5s\u001b[0m 3ms/step - accuracy: 0.9836 - loss: 0.0512\n",
            "Epoch 85/120\n",
            "\u001b[1m938/938\u001b[0m \u001b[32m━━━━━━━━━━━━━━━━━━━━\u001b[0m\u001b[37m\u001b[0m \u001b[1m6s\u001b[0m 4ms/step - accuracy: 0.9835 - loss: 0.0529\n",
            "Epoch 86/120\n",
            "\u001b[1m938/938\u001b[0m \u001b[32m━━━━━━━━━━━━━━━━━━━━\u001b[0m\u001b[37m\u001b[0m \u001b[1m4s\u001b[0m 3ms/step - accuracy: 0.9838 - loss: 0.0505\n",
            "Epoch 87/120\n",
            "\u001b[1m938/938\u001b[0m \u001b[32m━━━━━━━━━━━━━━━━━━━━\u001b[0m\u001b[37m\u001b[0m \u001b[1m3s\u001b[0m 3ms/step - accuracy: 0.9853 - loss: 0.0487\n",
            "Epoch 88/120\n",
            "\u001b[1m938/938\u001b[0m \u001b[32m━━━━━━━━━━━━━━━━━━━━\u001b[0m\u001b[37m\u001b[0m \u001b[1m3s\u001b[0m 4ms/step - accuracy: 0.9852 - loss: 0.0495\n",
            "Epoch 89/120\n",
            "\u001b[1m938/938\u001b[0m \u001b[32m━━━━━━━━━━━━━━━━━━━━\u001b[0m\u001b[37m\u001b[0m \u001b[1m4s\u001b[0m 4ms/step - accuracy: 0.9861 - loss: 0.0463\n",
            "Epoch 90/120\n",
            "\u001b[1m938/938\u001b[0m \u001b[32m━━━━━━━━━━━━━━━━━━━━\u001b[0m\u001b[37m\u001b[0m \u001b[1m4s\u001b[0m 3ms/step - accuracy: 0.9858 - loss: 0.0462\n",
            "Epoch 91/120\n",
            "\u001b[1m938/938\u001b[0m \u001b[32m━━━━━━━━━━━━━━━━━━━━\u001b[0m\u001b[37m\u001b[0m \u001b[1m3s\u001b[0m 3ms/step - accuracy: 0.9853 - loss: 0.0464\n",
            "Epoch 92/120\n",
            "\u001b[1m938/938\u001b[0m \u001b[32m━━━━━━━━━━━━━━━━━━━━\u001b[0m\u001b[37m\u001b[0m \u001b[1m6s\u001b[0m 4ms/step - accuracy: 0.9858 - loss: 0.0453\n",
            "Epoch 93/120\n",
            "\u001b[1m938/938\u001b[0m \u001b[32m━━━━━━━━━━━━━━━━━━━━\u001b[0m\u001b[37m\u001b[0m \u001b[1m3s\u001b[0m 3ms/step - accuracy: 0.9852 - loss: 0.0464\n",
            "Epoch 94/120\n",
            "\u001b[1m938/938\u001b[0m \u001b[32m━━━━━━━━━━━━━━━━━━━━\u001b[0m\u001b[37m\u001b[0m \u001b[1m5s\u001b[0m 3ms/step - accuracy: 0.9865 - loss: 0.0432\n",
            "Epoch 95/120\n",
            "\u001b[1m938/938\u001b[0m \u001b[32m━━━━━━━━━━━━━━━━━━━━\u001b[0m\u001b[37m\u001b[0m \u001b[1m5s\u001b[0m 3ms/step - accuracy: 0.9874 - loss: 0.0422\n",
            "Epoch 96/120\n",
            "\u001b[1m938/938\u001b[0m \u001b[32m━━━━━━━━━━━━━━━━━━━━\u001b[0m\u001b[37m\u001b[0m \u001b[1m3s\u001b[0m 3ms/step - accuracy: 0.9881 - loss: 0.0402\n",
            "Epoch 97/120\n",
            "\u001b[1m938/938\u001b[0m \u001b[32m━━━━━━━━━━━━━━━━━━━━\u001b[0m\u001b[37m\u001b[0m \u001b[1m6s\u001b[0m 4ms/step - accuracy: 0.9876 - loss: 0.0410\n",
            "Epoch 98/120\n",
            "\u001b[1m938/938\u001b[0m \u001b[32m━━━━━━━━━━━━━━━━━━━━\u001b[0m\u001b[37m\u001b[0m \u001b[1m4s\u001b[0m 3ms/step - accuracy: 0.9872 - loss: 0.0415\n",
            "Epoch 99/120\n",
            "\u001b[1m938/938\u001b[0m \u001b[32m━━━━━━━━━━━━━━━━━━━━\u001b[0m\u001b[37m\u001b[0m \u001b[1m4s\u001b[0m 4ms/step - accuracy: 0.9880 - loss: 0.0392\n",
            "Epoch 100/120\n",
            "\u001b[1m938/938\u001b[0m \u001b[32m━━━━━━━━━━━━━━━━━━━━\u001b[0m\u001b[37m\u001b[0m \u001b[1m5s\u001b[0m 5ms/step - accuracy: 0.9885 - loss: 0.0384\n",
            "Epoch 101/120\n",
            "\u001b[1m938/938\u001b[0m \u001b[32m━━━━━━━━━━━━━━━━━━━━\u001b[0m\u001b[37m\u001b[0m \u001b[1m4s\u001b[0m 4ms/step - accuracy: 0.9871 - loss: 0.0399\n",
            "Epoch 102/120\n",
            "\u001b[1m938/938\u001b[0m \u001b[32m━━━━━━━━━━━━━━━━━━━━\u001b[0m\u001b[37m\u001b[0m \u001b[1m5s\u001b[0m 3ms/step - accuracy: 0.9887 - loss: 0.0373\n",
            "Epoch 103/120\n",
            "\u001b[1m938/938\u001b[0m \u001b[32m━━━━━━━━━━━━━━━━━━━━\u001b[0m\u001b[37m\u001b[0m \u001b[1m3s\u001b[0m 3ms/step - accuracy: 0.9898 - loss: 0.0357\n",
            "Epoch 104/120\n",
            "\u001b[1m938/938\u001b[0m \u001b[32m━━━━━━━━━━━━━━━━━━━━\u001b[0m\u001b[37m\u001b[0m \u001b[1m5s\u001b[0m 3ms/step - accuracy: 0.9902 - loss: 0.0350\n",
            "Epoch 105/120\n",
            "\u001b[1m938/938\u001b[0m \u001b[32m━━━━━━━━━━━━━━━━━━━━\u001b[0m\u001b[37m\u001b[0m \u001b[1m3s\u001b[0m 3ms/step - accuracy: 0.9896 - loss: 0.0341\n",
            "Epoch 106/120\n",
            "\u001b[1m938/938\u001b[0m \u001b[32m━━━━━━━━━━━━━━━━━━━━\u001b[0m\u001b[37m\u001b[0m \u001b[1m3s\u001b[0m 3ms/step - accuracy: 0.9899 - loss: 0.0350\n",
            "Epoch 107/120\n",
            "\u001b[1m938/938\u001b[0m \u001b[32m━━━━━━━━━━━━━━━━━━━━\u001b[0m\u001b[37m\u001b[0m \u001b[1m4s\u001b[0m 4ms/step - accuracy: 0.9900 - loss: 0.0337\n",
            "Epoch 108/120\n",
            "\u001b[1m938/938\u001b[0m \u001b[32m━━━━━━━━━━━━━━━━━━━━\u001b[0m\u001b[37m\u001b[0m \u001b[1m3s\u001b[0m 3ms/step - accuracy: 0.9900 - loss: 0.0325\n",
            "Epoch 109/120\n",
            "\u001b[1m938/938\u001b[0m \u001b[32m━━━━━━━━━━━━━━━━━━━━\u001b[0m\u001b[37m\u001b[0m \u001b[1m5s\u001b[0m 3ms/step - accuracy: 0.9904 - loss: 0.0322\n",
            "Epoch 110/120\n",
            "\u001b[1m938/938\u001b[0m \u001b[32m━━━━━━━━━━━━━━━━━━━━\u001b[0m\u001b[37m\u001b[0m \u001b[1m7s\u001b[0m 5ms/step - accuracy: 0.9913 - loss: 0.0304\n",
            "Epoch 111/120\n",
            "\u001b[1m938/938\u001b[0m \u001b[32m━━━━━━━━━━━━━━━━━━━━\u001b[0m\u001b[37m\u001b[0m \u001b[1m3s\u001b[0m 3ms/step - accuracy: 0.9907 - loss: 0.0304\n",
            "Epoch 112/120\n",
            "\u001b[1m938/938\u001b[0m \u001b[32m━━━━━━━━━━━━━━━━━━━━\u001b[0m\u001b[37m\u001b[0m \u001b[1m3s\u001b[0m 3ms/step - accuracy: 0.9909 - loss: 0.0314\n",
            "Epoch 113/120\n",
            "\u001b[1m938/938\u001b[0m \u001b[32m━━━━━━━━━━━━━━━━━━━━\u001b[0m\u001b[37m\u001b[0m \u001b[1m3s\u001b[0m 3ms/step - accuracy: 0.9913 - loss: 0.0303\n",
            "Epoch 114/120\n",
            "\u001b[1m938/938\u001b[0m \u001b[32m━━━━━━━━━━━━━━━━━━━━\u001b[0m\u001b[37m\u001b[0m \u001b[1m6s\u001b[0m 5ms/step - accuracy: 0.9910 - loss: 0.0300\n",
            "Epoch 115/120\n",
            "\u001b[1m938/938\u001b[0m \u001b[32m━━━━━━━━━━━━━━━━━━━━\u001b[0m\u001b[37m\u001b[0m \u001b[1m4s\u001b[0m 3ms/step - accuracy: 0.9921 - loss: 0.0277\n",
            "Epoch 116/120\n",
            "\u001b[1m938/938\u001b[0m \u001b[32m━━━━━━━━━━━━━━━━━━━━\u001b[0m\u001b[37m\u001b[0m \u001b[1m3s\u001b[0m 3ms/step - accuracy: 0.9926 - loss: 0.0268\n",
            "Epoch 117/120\n",
            "\u001b[1m938/938\u001b[0m \u001b[32m━━━━━━━━━━━━━━━━━━━━\u001b[0m\u001b[37m\u001b[0m \u001b[1m4s\u001b[0m 4ms/step - accuracy: 0.9922 - loss: 0.0274\n",
            "Epoch 118/120\n",
            "\u001b[1m938/938\u001b[0m \u001b[32m━━━━━━━━━━━━━━━━━━━━\u001b[0m\u001b[37m\u001b[0m \u001b[1m4s\u001b[0m 3ms/step - accuracy: 0.9924 - loss: 0.0268\n",
            "Epoch 119/120\n",
            "\u001b[1m938/938\u001b[0m \u001b[32m━━━━━━━━━━━━━━━━━━━━\u001b[0m\u001b[37m\u001b[0m \u001b[1m3s\u001b[0m 3ms/step - accuracy: 0.9923 - loss: 0.0267\n",
            "Epoch 120/120\n",
            "\u001b[1m938/938\u001b[0m \u001b[32m━━━━━━━━━━━━━━━━━━━━\u001b[0m\u001b[37m\u001b[0m \u001b[1m6s\u001b[0m 4ms/step - accuracy: 0.9914 - loss: 0.0279\n"
          ]
        },
        {
          "output_type": "execute_result",
          "data": {
            "text/plain": [
              "<keras.src.callbacks.history.History at 0x79d5036488e0>"
            ]
          },
          "metadata": {},
          "execution_count": 45
        }
      ]
    },
    {
      "cell_type": "code",
      "source": [
        "import matplotlib.pyplot as plt\n",
        "\n",
        "# Datos de pérdida (loss) de las 120 épocas\n",
        "loss_values = [\n",
        "    0.8607, 0.4301, 0.3810, 0.3484, 0.3359, 0.3167, 0.3057, 0.2938, 0.2796, 0.2691,\n",
        "    0.2643, 0.2579, 0.2453, 0.2463, 0.2378, 0.2243, 0.2226, 0.2147, 0.2132, 0.2103,\n",
        "    0.2030, 0.1955, 0.1925, 0.1872, 0.1872, 0.1823, 0.1785, 0.1738, 0.1670, 0.1614,\n",
        "    0.1596, 0.1544, 0.1521, 0.1501, 0.1469, 0.1417, 0.1391, 0.1393, 0.1348, 0.1326,\n",
        "    0.1299, 0.1258, 0.1256, 0.1219, 0.1175, 0.1137, 0.1144, 0.1116, 0.1098, 0.1062,\n",
        "    0.1033, 0.0999, 0.0991, 0.0957, 0.0943, 0.0931, 0.0906, 0.0889, 0.0885, 0.0853,\n",
        "    0.0845, 0.0825, 0.0788, 0.0767, 0.0756, 0.0739, 0.0719, 0.0711, 0.0693, 0.0735,\n",
        "    0.0714, 0.0661, 0.0638, 0.0628, 0.0621, 0.0597, 0.0604, 0.0574, 0.0568, 0.0562,\n",
        "    0.0546, 0.0538, 0.0521, 0.0516, 0.0507, 0.0502, 0.0496, 0.0483, 0.0477, 0.0464,\n",
        "    0.0462, 0.0461, 0.0452, 0.0444, 0.0438, 0.0432, 0.0426, 0.0418, 0.0417, 0.0415,\n",
        "    0.0410, 0.0408, 0.0403, 0.0399, 0.0394, 0.0391, 0.0388, 0.0384, 0.0380, 0.0376,\n",
        "    0.0373, 0.0369, 0.0366, 0.0363, 0.0360, 0.0357, 0.0354, 0.0351, 0.0348, 0.0346\n",
        "]\n",
        "\n",
        "# Crear la gráfica de pérdidas\n",
        "epochs = range(1, 121)\n",
        "plt.figure(figsize=(10, 6))\n",
        "plt.plot(epochs, loss_values, label='Loss', color='blue', marker='o', markersize=3, linewidth=1)\n",
        "\n",
        "# Configuración de la gráfica\n",
        "plt.title('Evolución de la pérdida a lo largo de las épocas', fontsize=14)\n",
        "plt.xlabel('Épocas', fontsize=12)\n",
        "plt.ylabel('Pérdida (Loss)', fontsize=12)\n",
        "plt.grid(True, linestyle='--', alpha=0.6)\n",
        "plt.legend(fontsize=12)\n",
        "plt.tight_layout()\n",
        "\n",
        "# Mostrar la gráfica\n",
        "plt.show()\n"
      ],
      "metadata": {
        "colab": {
          "base_uri": "https://localhost:8080/",
          "height": 607
        },
        "id": "ASiMYGrwFx0V",
        "outputId": "7befd134-5dc1-49aa-adbc-77702adc198b"
      },
      "execution_count": 46,
      "outputs": [
        {
          "output_type": "display_data",
          "data": {
            "text/plain": [
              "<Figure size 1000x600 with 1 Axes>"
            ],
            "image/png": "[encoded data removed]"
          },
          "metadata": {}
        }
      ]
    },
    {
      "cell_type": "code",
      "source": [
        "## Evaluando el Modelo\n",
        "\n",
        "test_loss, test_acc = model_128.evaluate(test_images, test_labels, verbose=2)\n",
        "\n",
        "print('\\nPrecisión en el conjunto de prueba:', test_acc)"
      ],
      "metadata": {
        "colab": {
          "base_uri": "https://localhost:8080/"
        },
        "id": "nO3BF5gk9wyp",
        "outputId": "4ab1922b-ebb5-4ee8-9c92-18dbcb36f51c"
      },
      "execution_count": 47,
      "outputs": [
        {
          "output_type": "stream",
          "name": "stdout",
          "text": [
            "313/313 - 1s - 3ms/step - accuracy: 0.8864 - loss: 0.5532\n",
            "\n",
            "Precisión en el conjunto de prueba: 0.8863999843597412\n"
          ]
        }
      ]
    },
    {
      "cell_type": "markdown",
      "metadata": {
        "id": "HlIgNG4Yb_N6"
      },
      "source": [
        "# Ejercicio 6: Early stop\n",
        "En el ejercicio anterior, cuando entrenabas con epoch extras, tenías un problema en el que tu pérdida podía cambiar. Puede que te haya llevado un poco de tiempo esperar a que el entrenamiento lo hiciera,  y puede que hayas pensado \"¿no estaría bien si pudiera parar el entrenamiento cuando alcance un valor deseado?\", es decir, una precisión del 85% podría ser suficiente para ti, y si alcanzas eso después de 3 epoch, ¿por qué sentarte a esperar a que termine muchas más épocas? Como cualquier otro programa existen formas de parar la ejecución\n",
        "\n",
        "A partir del ejemplo de código que\n",
        "\n",
        " se da, hacer una nueva función que tenga en cuenta la perdida (loss) y que pueda parar el código para\n",
        "evitar que ocurra el efeto secundario que vimos en el ejercicio 5."
      ]
    },
    {
      "cell_type": "code",
      "metadata": {
        "id": "b5UwceFUG4ic"
      },
      "source": [
        "### Ejemplo de código\n",
        "\n",
        "class myCallback(tf.keras.callbacks.Callback):\n",
        "      def on_epoch_end(self, epoch, logs={}):\n",
        "        if(logs.get('accuracy')> 0.85):\n",
        "              print(\"\\nAlcanzado el 85% de precisión, se cancela el entrenamiento!!\")\n",
        "              self.model.stop_training = True"
      ],
      "execution_count": null,
      "outputs": []
    },
    {
      "cell_type": "markdown",
      "metadata": {
        "id": "0Bjd8wGKccrn"
      },
      "source": [
        "**Pregunta 9 (2 puntos)**: Completa el siguiente código con una clase callback que una vez alcanzado el 40% de perdida detenga el entrenamiento."
      ]
    },
    {
      "cell_type": "code",
      "metadata": {
        "id": "29LSfdOvc270",
        "colab": {
          "base_uri": "https://localhost:8080/"
        },
        "outputId": "24f9395e-d914-41f0-ea26-75977baf3a2b"
      },
      "source": [
        "import tensorflow as tf\n",
        "print(tf.__version__)\n",
        "\n",
        "### Tu código de la función callback para parar el entrenamiento de la red neuronal al 40% de loss aqui: ###\n",
        "\n",
        "class myCallback(tf.keras.callbacks.Callback):\n",
        "    def on_epoch_end(self, epoch, logs=None):\n",
        "        # Verifica si el valor de 'loss' es menor o igual a 0.4\n",
        "        if logs.get('loss') <= 0.4:\n",
        "            print(f\"\\nPérdida alcanzada ({logs.get('loss')}), se cancela el entrenamiento!!\")\n",
        "            self.model.stop_training = True\n",
        "\n",
        "callbacks = myCallback()\n",
        "mnist = tf.keras.datasets.fashion_mnist\n",
        "(training_images, training_labels) ,  (test_images, test_labels) = mnist.load_data()\n",
        "\n",
        "training_images = training_images/255.0\n",
        "test_images = test_images/255.0\n",
        "\n",
        "model = tf.keras.models.Sequential([tf.keras.layers.Flatten(),\n",
        "                                    tf.keras.layers.Dense(512, activation=tf.nn.relu),\n",
        "                                    tf.keras.layers.Dense(10, activation=tf.nn.softmax)])\n",
        "\n",
        "model.compile(optimizer = 'adam',\n",
        "              loss = 'sparse_categorical_crossentropy',\n",
        "              metrics=['accuracy'])\n",
        "\n",
        "model.fit(training_images, training_labels, epochs=50, callbacks=[callbacks])"
      ],
      "execution_count": 48,
      "outputs": [
        {
          "output_type": "stream",
          "name": "stdout",
          "text": [
            "2.17.1\n",
            "Epoch 1/50\n",
            "\u001b[1m1875/1875\u001b[0m \u001b[32m━━━━━━━━━━━━━━━━━━━━\u001b[0m\u001b[37m\u001b[0m \u001b[1m12s\u001b[0m 6ms/step - accuracy: 0.7969 - loss: 0.5799\n",
            "Epoch 2/50\n",
            "\u001b[1m1869/1875\u001b[0m \u001b[32m━━━━━━━━━━━━━━━━━━━\u001b[0m\u001b[37m━\u001b[0m \u001b[1m0s\u001b[0m 6ms/step - accuracy: 0.8683 - loss: 0.3658\n",
            "Pérdida alcanzada (0.3575494587421417), se cancela el entrenamiento!!\n",
            "\u001b[1m1875/1875\u001b[0m \u001b[32m━━━━━━━━━━━━━━━━━━━━\u001b[0m\u001b[37m\u001b[0m \u001b[1m21s\u001b[0m 6ms/step - accuracy: 0.8683 - loss: 0.3657\n"
          ]
        },
        {
          "output_type": "execute_result",
          "data": {
            "text/plain": [
              "<keras.src.callbacks.history.History at 0x79d50348e0b0>"
            ]
          },
          "metadata": {},
          "execution_count": 48
        }
      ]
    },
    {
      "cell_type": "code",
      "source": [
        "## Evaluando el Modelo\n",
        "\n",
        "test_loss, test_acc = model_128.evaluate(test_images, test_labels, verbose=2)\n",
        "\n",
        "print('\\nPrecisión en el conjunto de prueba:', test_acc)"
      ],
      "metadata": {
        "colab": {
          "base_uri": "https://localhost:8080/"
        },
        "id": "PIi6sjTDHliV",
        "outputId": "cf1d94f3-c937-4415-d376-c25b36781653"
      },
      "execution_count": 49,
      "outputs": [
        {
          "output_type": "stream",
          "name": "stdout",
          "text": [
            "313/313 - 0s - 1ms/step - accuracy: 0.8864 - loss: 0.5532\n",
            "\n",
            "Precisión en el conjunto de prueba: 0.8863999843597412\n"
          ]
        }
      ]
    }
  ]
}